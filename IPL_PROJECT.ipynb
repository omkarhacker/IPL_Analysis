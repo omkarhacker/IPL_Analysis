{
  "cells": [
    {
      "cell_type": "markdown",
      "metadata": {
        "id": "H6F3NH8BFSnk"
      },
      "source": [
        "**IMPORT LIBRARIES**"
      ]
    },
    {
      "cell_type": "code",
      "execution_count": 5,
      "metadata": {
        "id": "GVtT97fJBVRE"
      },
      "outputs": [],
      "source": [
        "import pandas as pd\n",
        "import numpy as np\n",
        "import matplotlib.pyplot as plt\n",
        "import seaborn as sns"
      ]
    },
    {
      "cell_type": "markdown",
      "metadata": {
        "id": "_TPjC88GGKkG"
      },
      "source": [
        "**IMPORTING CSV DATASETS**"
      ]
    },
    {
      "cell_type": "code",
      "execution_count": 6,
      "metadata": {
        "id": "CxUDRbOBFcAY"
      },
      "outputs": [],
      "source": [
        "matches_df=pd.read_csv(r\"C:\\Users\\hp\\Downloads\\IPL-2022-Analysis-main\\IPL-2022-Analysis-main\\DATA\\IPL_Matches_2022.csv\")"
      ]
    },
    {
      "cell_type": "code",
      "execution_count": 7,
      "metadata": {
        "id": "FwJRQaCFGIp9"
      },
      "outputs": [],
      "source": [
        "ball_df=pd.read_csv(r\"C:\\Users\\hp\\Downloads\\IPL-2022-Analysis-main\\IPL-2022-Analysis-main\\DATA\\IPL_Ball_by_Ball_2022.csv\")"
      ]
    },
    {
      "cell_type": "code",
      "execution_count": 8,
      "metadata": {
        "id": "MDyJFt0nH7oY"
      },
      "outputs": [],
      "source": [
        "match=pd.read_csv(r\"C:\\Users\\hp\\Downloads\\IPL-2022-Analysis-main\\IPL-2022-Analysis-main\\DATA\\matches.csv\")"
      ]
    },
    {
      "cell_type": "markdown",
      "metadata": {
        "id": "DEWgoCluGusf"
      },
      "source": [
        "**READING DATAFRAME**"
      ]
    },
    {
      "cell_type": "code",
      "execution_count": 7,
      "metadata": {
        "colab": {
          "base_uri": "https://localhost:8080/",
          "height": 548
        },
        "id": "ODAksQicGWkP",
        "outputId": "8acd3fa8-eeec-4da7-9bd0-6e7770f92e84"
      },
      "outputs": [
        {
          "data": {
            "text/html": [
              "<div>\n",
              "<style scoped>\n",
              "    .dataframe tbody tr th:only-of-type {\n",
              "        vertical-align: middle;\n",
              "    }\n",
              "\n",
              "    .dataframe tbody tr th {\n",
              "        vertical-align: top;\n",
              "    }\n",
              "\n",
              "    .dataframe thead th {\n",
              "        text-align: right;\n",
              "    }\n",
              "</style>\n",
              "<table border=\"1\" class=\"dataframe\">\n",
              "  <thead>\n",
              "    <tr style=\"text-align: right;\">\n",
              "      <th></th>\n",
              "      <th>ID</th>\n",
              "      <th>City</th>\n",
              "      <th>Date</th>\n",
              "      <th>Season</th>\n",
              "      <th>MatchNumber</th>\n",
              "      <th>Team1</th>\n",
              "      <th>Team2</th>\n",
              "      <th>Venue</th>\n",
              "      <th>TossWinner</th>\n",
              "      <th>TossDecision</th>\n",
              "      <th>SuperOver</th>\n",
              "      <th>WinningTeam</th>\n",
              "      <th>WonBy</th>\n",
              "      <th>Margin</th>\n",
              "      <th>method</th>\n",
              "      <th>Player_of_Match</th>\n",
              "      <th>Team1Players</th>\n",
              "      <th>Team2Players</th>\n",
              "      <th>Umpire1</th>\n",
              "      <th>Umpire2</th>\n",
              "    </tr>\n",
              "  </thead>\n",
              "  <tbody>\n",
              "    <tr>\n",
              "      <th>0</th>\n",
              "      <td>1304105</td>\n",
              "      <td>Mumbai</td>\n",
              "      <td>2022-05-12</td>\n",
              "      <td>2022</td>\n",
              "      <td>59</td>\n",
              "      <td>Chennai Super Kings</td>\n",
              "      <td>Mumbai Indians</td>\n",
              "      <td>Wankhede Stadium, Mumbai</td>\n",
              "      <td>Mumbai Indians</td>\n",
              "      <td>field</td>\n",
              "      <td>N</td>\n",
              "      <td>Mumbai Indians</td>\n",
              "      <td>Wickets</td>\n",
              "      <td>5</td>\n",
              "      <td>NaN</td>\n",
              "      <td>DR Sams</td>\n",
              "      <td>['RD Gaikwad', 'DP Conway', 'MM Ali', 'RV Utha...</td>\n",
              "      <td>['Ishan Kishan', 'RG Sharma', 'DR Sams', 'Tila...</td>\n",
              "      <td>Chirra Ravikanthreddy</td>\n",
              "      <td>CB Gaffaney</td>\n",
              "    </tr>\n",
              "    <tr>\n",
              "      <th>1</th>\n",
              "      <td>1304104</td>\n",
              "      <td>Navi Mumbai</td>\n",
              "      <td>2022-05-11</td>\n",
              "      <td>2022</td>\n",
              "      <td>58</td>\n",
              "      <td>Rajasthan Royals</td>\n",
              "      <td>Delhi Capitals</td>\n",
              "      <td>Dr DY Patil Sports Academy, Mumbai</td>\n",
              "      <td>Delhi Capitals</td>\n",
              "      <td>field</td>\n",
              "      <td>N</td>\n",
              "      <td>Delhi Capitals</td>\n",
              "      <td>Wickets</td>\n",
              "      <td>8</td>\n",
              "      <td>NaN</td>\n",
              "      <td>MR Marsh</td>\n",
              "      <td>['YBK Jaiswal', 'JC Buttler', 'R Ashwin', 'D P...</td>\n",
              "      <td>['KS Bharat', 'DA Warner', 'MR Marsh', 'RR Pan...</td>\n",
              "      <td>NA Patwardhan</td>\n",
              "      <td>Nitin Menon</td>\n",
              "    </tr>\n",
              "    <tr>\n",
              "      <th>2</th>\n",
              "      <td>1304103</td>\n",
              "      <td>Pune</td>\n",
              "      <td>2022-05-10</td>\n",
              "      <td>2022</td>\n",
              "      <td>57</td>\n",
              "      <td>Gujarat Titans</td>\n",
              "      <td>Lucknow Super Giants</td>\n",
              "      <td>Maharashtra Cricket Association Stadium, Pune</td>\n",
              "      <td>Gujarat Titans</td>\n",
              "      <td>bat</td>\n",
              "      <td>N</td>\n",
              "      <td>Gujarat Titans</td>\n",
              "      <td>Runs</td>\n",
              "      <td>62</td>\n",
              "      <td>NaN</td>\n",
              "      <td>Shubman Gill</td>\n",
              "      <td>['WP Saha', 'Shubman Gill', 'MS Wade', 'HH Pan...</td>\n",
              "      <td>['Q de Kock', 'KL Rahul', 'DJ Hooda', 'KS Shar...</td>\n",
              "      <td>KN Ananthapadmanabhan</td>\n",
              "      <td>MA Gough</td>\n",
              "    </tr>\n",
              "    <tr>\n",
              "      <th>3</th>\n",
              "      <td>1304102</td>\n",
              "      <td>Navi Mumbai</td>\n",
              "      <td>2022-05-09</td>\n",
              "      <td>2022</td>\n",
              "      <td>56</td>\n",
              "      <td>Kolkata Knight Riders</td>\n",
              "      <td>Mumbai Indians</td>\n",
              "      <td>Dr DY Patil Sports Academy, Mumbai</td>\n",
              "      <td>Mumbai Indians</td>\n",
              "      <td>field</td>\n",
              "      <td>N</td>\n",
              "      <td>Kolkata Knight Riders</td>\n",
              "      <td>Runs</td>\n",
              "      <td>52</td>\n",
              "      <td>NaN</td>\n",
              "      <td>JJ Bumrah</td>\n",
              "      <td>['VR Iyer', 'AM Rahane', 'N Rana', 'SS Iyer', ...</td>\n",
              "      <td>['RG Sharma', 'Ishan Kishan', 'Tilak Varma', '...</td>\n",
              "      <td>CB Gaffaney</td>\n",
              "      <td>GR Sadashiv Iyer</td>\n",
              "    </tr>\n",
              "    <tr>\n",
              "      <th>4</th>\n",
              "      <td>1304101</td>\n",
              "      <td>Navi Mumbai</td>\n",
              "      <td>2022-05-08</td>\n",
              "      <td>2022</td>\n",
              "      <td>55</td>\n",
              "      <td>Chennai Super Kings</td>\n",
              "      <td>Delhi Capitals</td>\n",
              "      <td>Dr DY Patil Sports Academy, Mumbai</td>\n",
              "      <td>Delhi Capitals</td>\n",
              "      <td>field</td>\n",
              "      <td>N</td>\n",
              "      <td>Chennai Super Kings</td>\n",
              "      <td>Runs</td>\n",
              "      <td>91</td>\n",
              "      <td>NaN</td>\n",
              "      <td>DP Conway</td>\n",
              "      <td>['RD Gaikwad', 'DP Conway', 'S Dube', 'AT Rayu...</td>\n",
              "      <td>['DA Warner', 'KS Bharat', 'MR Marsh', 'RR Pan...</td>\n",
              "      <td>Nitin Menon</td>\n",
              "      <td>R Pandit</td>\n",
              "    </tr>\n",
              "  </tbody>\n",
              "</table>\n",
              "</div>"
            ],
            "text/plain": [
              "        ID         City        Date  Season  MatchNumber  \\\n",
              "0  1304105       Mumbai  2022-05-12    2022           59   \n",
              "1  1304104  Navi Mumbai  2022-05-11    2022           58   \n",
              "2  1304103         Pune  2022-05-10    2022           57   \n",
              "3  1304102  Navi Mumbai  2022-05-09    2022           56   \n",
              "4  1304101  Navi Mumbai  2022-05-08    2022           55   \n",
              "\n",
              "                   Team1                 Team2  \\\n",
              "0    Chennai Super Kings        Mumbai Indians   \n",
              "1       Rajasthan Royals        Delhi Capitals   \n",
              "2         Gujarat Titans  Lucknow Super Giants   \n",
              "3  Kolkata Knight Riders        Mumbai Indians   \n",
              "4    Chennai Super Kings        Delhi Capitals   \n",
              "\n",
              "                                           Venue      TossWinner TossDecision  \\\n",
              "0                       Wankhede Stadium, Mumbai  Mumbai Indians        field   \n",
              "1             Dr DY Patil Sports Academy, Mumbai  Delhi Capitals        field   \n",
              "2  Maharashtra Cricket Association Stadium, Pune  Gujarat Titans          bat   \n",
              "3             Dr DY Patil Sports Academy, Mumbai  Mumbai Indians        field   \n",
              "4             Dr DY Patil Sports Academy, Mumbai  Delhi Capitals        field   \n",
              "\n",
              "  SuperOver            WinningTeam    WonBy  Margin  method Player_of_Match  \\\n",
              "0         N         Mumbai Indians  Wickets       5     NaN         DR Sams   \n",
              "1         N         Delhi Capitals  Wickets       8     NaN        MR Marsh   \n",
              "2         N         Gujarat Titans     Runs      62     NaN    Shubman Gill   \n",
              "3         N  Kolkata Knight Riders     Runs      52     NaN       JJ Bumrah   \n",
              "4         N    Chennai Super Kings     Runs      91     NaN       DP Conway   \n",
              "\n",
              "                                        Team1Players  \\\n",
              "0  ['RD Gaikwad', 'DP Conway', 'MM Ali', 'RV Utha...   \n",
              "1  ['YBK Jaiswal', 'JC Buttler', 'R Ashwin', 'D P...   \n",
              "2  ['WP Saha', 'Shubman Gill', 'MS Wade', 'HH Pan...   \n",
              "3  ['VR Iyer', 'AM Rahane', 'N Rana', 'SS Iyer', ...   \n",
              "4  ['RD Gaikwad', 'DP Conway', 'S Dube', 'AT Rayu...   \n",
              "\n",
              "                                        Team2Players                Umpire1  \\\n",
              "0  ['Ishan Kishan', 'RG Sharma', 'DR Sams', 'Tila...  Chirra Ravikanthreddy   \n",
              "1  ['KS Bharat', 'DA Warner', 'MR Marsh', 'RR Pan...          NA Patwardhan   \n",
              "2  ['Q de Kock', 'KL Rahul', 'DJ Hooda', 'KS Shar...  KN Ananthapadmanabhan   \n",
              "3  ['RG Sharma', 'Ishan Kishan', 'Tilak Varma', '...            CB Gaffaney   \n",
              "4  ['DA Warner', 'KS Bharat', 'MR Marsh', 'RR Pan...            Nitin Menon   \n",
              "\n",
              "            Umpire2  \n",
              "0       CB Gaffaney  \n",
              "1       Nitin Menon  \n",
              "2          MA Gough  \n",
              "3  GR Sadashiv Iyer  \n",
              "4          R Pandit  "
            ]
          },
          "execution_count": 7,
          "metadata": {},
          "output_type": "execute_result"
        }
      ],
      "source": [
        "matches_df.head(5)"
      ]
    },
    {
      "cell_type": "code",
      "execution_count": 8,
      "metadata": {
        "colab": {
          "base_uri": "https://localhost:8080/",
          "height": 374
        },
        "id": "r72DflVIG5C7",
        "outputId": "a99bf664-e249-4b15-e5b2-5f9d987043ac"
      },
      "outputs": [
        {
          "data": {
            "text/html": [
              "<div>\n",
              "<style scoped>\n",
              "    .dataframe tbody tr th:only-of-type {\n",
              "        vertical-align: middle;\n",
              "    }\n",
              "\n",
              "    .dataframe tbody tr th {\n",
              "        vertical-align: top;\n",
              "    }\n",
              "\n",
              "    .dataframe thead th {\n",
              "        text-align: right;\n",
              "    }\n",
              "</style>\n",
              "<table border=\"1\" class=\"dataframe\">\n",
              "  <thead>\n",
              "    <tr style=\"text-align: right;\">\n",
              "      <th></th>\n",
              "      <th>ID</th>\n",
              "      <th>innings</th>\n",
              "      <th>overs</th>\n",
              "      <th>ballnumber</th>\n",
              "      <th>batter</th>\n",
              "      <th>bowler</th>\n",
              "      <th>non-striker</th>\n",
              "      <th>extra_type</th>\n",
              "      <th>batsman_run</th>\n",
              "      <th>extras_run</th>\n",
              "      <th>total_run</th>\n",
              "      <th>non_boundary</th>\n",
              "      <th>isWicketDelivery</th>\n",
              "      <th>player_out</th>\n",
              "      <th>kind</th>\n",
              "      <th>fielders_involved</th>\n",
              "      <th>BattingTeam</th>\n",
              "    </tr>\n",
              "  </thead>\n",
              "  <tbody>\n",
              "    <tr>\n",
              "      <th>0</th>\n",
              "      <td>1304105</td>\n",
              "      <td>1</td>\n",
              "      <td>0</td>\n",
              "      <td>1</td>\n",
              "      <td>RD Gaikwad</td>\n",
              "      <td>DR Sams</td>\n",
              "      <td>DP Conway</td>\n",
              "      <td>NaN</td>\n",
              "      <td>1</td>\n",
              "      <td>0</td>\n",
              "      <td>1</td>\n",
              "      <td>0</td>\n",
              "      <td>0</td>\n",
              "      <td>NaN</td>\n",
              "      <td>NaN</td>\n",
              "      <td>NaN</td>\n",
              "      <td>Chennai Super Kings</td>\n",
              "    </tr>\n",
              "    <tr>\n",
              "      <th>1</th>\n",
              "      <td>1304105</td>\n",
              "      <td>1</td>\n",
              "      <td>0</td>\n",
              "      <td>2</td>\n",
              "      <td>DP Conway</td>\n",
              "      <td>DR Sams</td>\n",
              "      <td>RD Gaikwad</td>\n",
              "      <td>NaN</td>\n",
              "      <td>0</td>\n",
              "      <td>0</td>\n",
              "      <td>0</td>\n",
              "      <td>0</td>\n",
              "      <td>1</td>\n",
              "      <td>DP Conway</td>\n",
              "      <td>lbw</td>\n",
              "      <td>NaN</td>\n",
              "      <td>Chennai Super Kings</td>\n",
              "    </tr>\n",
              "    <tr>\n",
              "      <th>2</th>\n",
              "      <td>1304105</td>\n",
              "      <td>1</td>\n",
              "      <td>0</td>\n",
              "      <td>3</td>\n",
              "      <td>MM Ali</td>\n",
              "      <td>DR Sams</td>\n",
              "      <td>RD Gaikwad</td>\n",
              "      <td>NaN</td>\n",
              "      <td>0</td>\n",
              "      <td>0</td>\n",
              "      <td>0</td>\n",
              "      <td>0</td>\n",
              "      <td>0</td>\n",
              "      <td>NaN</td>\n",
              "      <td>NaN</td>\n",
              "      <td>NaN</td>\n",
              "      <td>Chennai Super Kings</td>\n",
              "    </tr>\n",
              "    <tr>\n",
              "      <th>3</th>\n",
              "      <td>1304105</td>\n",
              "      <td>1</td>\n",
              "      <td>0</td>\n",
              "      <td>4</td>\n",
              "      <td>MM Ali</td>\n",
              "      <td>DR Sams</td>\n",
              "      <td>RD Gaikwad</td>\n",
              "      <td>wides</td>\n",
              "      <td>0</td>\n",
              "      <td>1</td>\n",
              "      <td>1</td>\n",
              "      <td>0</td>\n",
              "      <td>0</td>\n",
              "      <td>NaN</td>\n",
              "      <td>NaN</td>\n",
              "      <td>NaN</td>\n",
              "      <td>Chennai Super Kings</td>\n",
              "    </tr>\n",
              "    <tr>\n",
              "      <th>4</th>\n",
              "      <td>1304105</td>\n",
              "      <td>1</td>\n",
              "      <td>0</td>\n",
              "      <td>5</td>\n",
              "      <td>MM Ali</td>\n",
              "      <td>DR Sams</td>\n",
              "      <td>RD Gaikwad</td>\n",
              "      <td>NaN</td>\n",
              "      <td>0</td>\n",
              "      <td>0</td>\n",
              "      <td>0</td>\n",
              "      <td>0</td>\n",
              "      <td>1</td>\n",
              "      <td>MM Ali</td>\n",
              "      <td>caught</td>\n",
              "      <td>HR Shokeen</td>\n",
              "      <td>Chennai Super Kings</td>\n",
              "    </tr>\n",
              "  </tbody>\n",
              "</table>\n",
              "</div>"
            ],
            "text/plain": [
              "        ID  innings  overs  ballnumber      batter   bowler non-striker  \\\n",
              "0  1304105        1      0           1  RD Gaikwad  DR Sams   DP Conway   \n",
              "1  1304105        1      0           2   DP Conway  DR Sams  RD Gaikwad   \n",
              "2  1304105        1      0           3      MM Ali  DR Sams  RD Gaikwad   \n",
              "3  1304105        1      0           4      MM Ali  DR Sams  RD Gaikwad   \n",
              "4  1304105        1      0           5      MM Ali  DR Sams  RD Gaikwad   \n",
              "\n",
              "  extra_type  batsman_run  extras_run  total_run  non_boundary  \\\n",
              "0        NaN            1           0          1             0   \n",
              "1        NaN            0           0          0             0   \n",
              "2        NaN            0           0          0             0   \n",
              "3      wides            0           1          1             0   \n",
              "4        NaN            0           0          0             0   \n",
              "\n",
              "   isWicketDelivery player_out    kind fielders_involved          BattingTeam  \n",
              "0                 0        NaN     NaN               NaN  Chennai Super Kings  \n",
              "1                 1  DP Conway     lbw               NaN  Chennai Super Kings  \n",
              "2                 0        NaN     NaN               NaN  Chennai Super Kings  \n",
              "3                 0        NaN     NaN               NaN  Chennai Super Kings  \n",
              "4                 1     MM Ali  caught        HR Shokeen  Chennai Super Kings  "
            ]
          },
          "execution_count": 8,
          "metadata": {},
          "output_type": "execute_result"
        }
      ],
      "source": [
        "ball_df.head(5)"
      ]
    },
    {
      "cell_type": "code",
      "execution_count": 10,
      "metadata": {
        "colab": {
          "base_uri": "https://localhost:8080/",
          "height": 478
        },
        "id": "jGT31NwnIfiN",
        "outputId": "51b24ab9-86a3-423d-f0f9-81c69742c751"
      },
      "outputs": [
        {
          "data": {
            "text/html": [
              "<div>\n",
              "<style scoped>\n",
              "    .dataframe tbody tr th:only-of-type {\n",
              "        vertical-align: middle;\n",
              "    }\n",
              "\n",
              "    .dataframe tbody tr th {\n",
              "        vertical-align: top;\n",
              "    }\n",
              "\n",
              "    .dataframe thead th {\n",
              "        text-align: right;\n",
              "    }\n",
              "</style>\n",
              "<table border=\"1\" class=\"dataframe\">\n",
              "  <thead>\n",
              "    <tr style=\"text-align: right;\">\n",
              "      <th></th>\n",
              "      <th>match_id</th>\n",
              "      <th>date</th>\n",
              "      <th>venue</th>\n",
              "      <th>team1</th>\n",
              "      <th>team2</th>\n",
              "      <th>stage</th>\n",
              "      <th>toss_winner</th>\n",
              "      <th>toss_decision</th>\n",
              "      <th>first_ings_score</th>\n",
              "      <th>first_ings_wkts</th>\n",
              "      <th>second_ings_score</th>\n",
              "      <th>second_ings_wkts</th>\n",
              "      <th>match_winner</th>\n",
              "      <th>won_by</th>\n",
              "      <th>margin</th>\n",
              "      <th>player_of_the_match</th>\n",
              "      <th>top_scorer</th>\n",
              "      <th>highscore</th>\n",
              "      <th>best_bowling</th>\n",
              "      <th>best_bowling_figure</th>\n",
              "    </tr>\n",
              "  </thead>\n",
              "  <tbody>\n",
              "    <tr>\n",
              "      <th>0</th>\n",
              "      <td>1</td>\n",
              "      <td>March 26,2022</td>\n",
              "      <td>Wankhede Stadium, Mumbai</td>\n",
              "      <td>Chennai</td>\n",
              "      <td>Kolkata</td>\n",
              "      <td>Group</td>\n",
              "      <td>Kolkata</td>\n",
              "      <td>Field</td>\n",
              "      <td>131</td>\n",
              "      <td>5</td>\n",
              "      <td>133</td>\n",
              "      <td>4</td>\n",
              "      <td>Kolkata</td>\n",
              "      <td>Wickets</td>\n",
              "      <td>6</td>\n",
              "      <td>Umesh Yadav</td>\n",
              "      <td>MS Dhoni</td>\n",
              "      <td>50</td>\n",
              "      <td>Dwayne Bravo</td>\n",
              "      <td>3--20</td>\n",
              "    </tr>\n",
              "    <tr>\n",
              "      <th>1</th>\n",
              "      <td>2</td>\n",
              "      <td>March 27,2022</td>\n",
              "      <td>Brabourne Stadium, Mumbai</td>\n",
              "      <td>Delhi</td>\n",
              "      <td>Mumbai</td>\n",
              "      <td>Group</td>\n",
              "      <td>Delhi</td>\n",
              "      <td>Field</td>\n",
              "      <td>177</td>\n",
              "      <td>5</td>\n",
              "      <td>179</td>\n",
              "      <td>6</td>\n",
              "      <td>Delhi</td>\n",
              "      <td>Wickets</td>\n",
              "      <td>4</td>\n",
              "      <td>Kuldeep Yadav</td>\n",
              "      <td>Ishan Kishan</td>\n",
              "      <td>81</td>\n",
              "      <td>Kuldeep Yadav</td>\n",
              "      <td>3--18</td>\n",
              "    </tr>\n",
              "    <tr>\n",
              "      <th>2</th>\n",
              "      <td>3</td>\n",
              "      <td>March 27,2022</td>\n",
              "      <td>Dr DY Patil Sports Academy, Mumbai</td>\n",
              "      <td>Banglore</td>\n",
              "      <td>Punjab</td>\n",
              "      <td>Group</td>\n",
              "      <td>Punjab</td>\n",
              "      <td>Field</td>\n",
              "      <td>205</td>\n",
              "      <td>2</td>\n",
              "      <td>208</td>\n",
              "      <td>5</td>\n",
              "      <td>Punjab</td>\n",
              "      <td>Wickets</td>\n",
              "      <td>5</td>\n",
              "      <td>Odean Smith</td>\n",
              "      <td>Faf du Plessis</td>\n",
              "      <td>88</td>\n",
              "      <td>Mohammed Siraj</td>\n",
              "      <td>2--59</td>\n",
              "    </tr>\n",
              "    <tr>\n",
              "      <th>3</th>\n",
              "      <td>4</td>\n",
              "      <td>March 28,2022</td>\n",
              "      <td>Wankhede Stadium, Mumbai</td>\n",
              "      <td>Gujarat</td>\n",
              "      <td>Lucknow</td>\n",
              "      <td>Group</td>\n",
              "      <td>Gujarat</td>\n",
              "      <td>Field</td>\n",
              "      <td>158</td>\n",
              "      <td>6</td>\n",
              "      <td>161</td>\n",
              "      <td>5</td>\n",
              "      <td>Gujarat</td>\n",
              "      <td>Wickets</td>\n",
              "      <td>5</td>\n",
              "      <td>Mohammed Shami</td>\n",
              "      <td>Deepak Hooda</td>\n",
              "      <td>55</td>\n",
              "      <td>Mohammed Shami</td>\n",
              "      <td>3--25</td>\n",
              "    </tr>\n",
              "    <tr>\n",
              "      <th>4</th>\n",
              "      <td>5</td>\n",
              "      <td>March 29,2022</td>\n",
              "      <td>Maharashtra Cricket Association Stadium,Pune</td>\n",
              "      <td>Hyderabad</td>\n",
              "      <td>Rajasthan</td>\n",
              "      <td>Group</td>\n",
              "      <td>Hyderabad</td>\n",
              "      <td>Field</td>\n",
              "      <td>210</td>\n",
              "      <td>6</td>\n",
              "      <td>149</td>\n",
              "      <td>7</td>\n",
              "      <td>Rajasthan</td>\n",
              "      <td>Runs</td>\n",
              "      <td>61</td>\n",
              "      <td>Sanju Samson</td>\n",
              "      <td>Aiden Markram</td>\n",
              "      <td>57</td>\n",
              "      <td>Yuzvendra Chahal</td>\n",
              "      <td>3--22</td>\n",
              "    </tr>\n",
              "  </tbody>\n",
              "</table>\n",
              "</div>"
            ],
            "text/plain": [
              "   match_id           date                                         venue  \\\n",
              "0         1  March 26,2022                      Wankhede Stadium, Mumbai   \n",
              "1         2  March 27,2022                     Brabourne Stadium, Mumbai   \n",
              "2         3  March 27,2022            Dr DY Patil Sports Academy, Mumbai   \n",
              "3         4  March 28,2022                      Wankhede Stadium, Mumbai   \n",
              "4         5  March 29,2022  Maharashtra Cricket Association Stadium,Pune   \n",
              "\n",
              "       team1      team2  stage toss_winner toss_decision  first_ings_score  \\\n",
              "0    Chennai    Kolkata  Group     Kolkata         Field               131   \n",
              "1      Delhi     Mumbai  Group       Delhi         Field               177   \n",
              "2   Banglore     Punjab  Group      Punjab         Field               205   \n",
              "3    Gujarat    Lucknow  Group     Gujarat         Field               158   \n",
              "4  Hyderabad  Rajasthan  Group   Hyderabad         Field               210   \n",
              "\n",
              "   first_ings_wkts  second_ings_score  second_ings_wkts match_winner   won_by  \\\n",
              "0                5                133                 4      Kolkata  Wickets   \n",
              "1                5                179                 6        Delhi  Wickets   \n",
              "2                2                208                 5       Punjab  Wickets   \n",
              "3                6                161                 5      Gujarat  Wickets   \n",
              "4                6                149                 7    Rajasthan     Runs   \n",
              "\n",
              "   margin player_of_the_match      top_scorer  highscore      best_bowling  \\\n",
              "0       6         Umesh Yadav        MS Dhoni         50      Dwayne Bravo   \n",
              "1       4       Kuldeep Yadav    Ishan Kishan         81     Kuldeep Yadav   \n",
              "2       5         Odean Smith  Faf du Plessis         88    Mohammed Siraj   \n",
              "3       5      Mohammed Shami    Deepak Hooda         55    Mohammed Shami   \n",
              "4      61        Sanju Samson   Aiden Markram         57  Yuzvendra Chahal   \n",
              "\n",
              "  best_bowling_figure  \n",
              "0               3--20  \n",
              "1               3--18  \n",
              "2               2--59  \n",
              "3               3--25  \n",
              "4               3--22  "
            ]
          },
          "execution_count": 10,
          "metadata": {},
          "output_type": "execute_result"
        }
      ],
      "source": [
        "match.head(5)"
      ]
    },
    {
      "cell_type": "markdown",
      "metadata": {
        "id": "oueHtbpkHJxg"
      },
      "source": [
        "# **DATA CLEANING**"
      ]
    },
    {
      "cell_type": "markdown",
      "metadata": {
        "id": "JiKuU5XTHSxh"
      },
      "source": [
        "**ANALYSING NUMBER OF COLUMNS AND ROWS PRESENTS IN CSV**"
      ]
    },
    {
      "cell_type": "code",
      "execution_count": 11,
      "metadata": {
        "colab": {
          "base_uri": "https://localhost:8080/"
        },
        "id": "s0AEonEwHbVh",
        "outputId": "0bdc652a-d89d-4e6f-c9d1-39b61b77b0be"
      },
      "outputs": [
        {
          "data": {
            "text/plain": [
              "(59, 20)"
            ]
          },
          "execution_count": 11,
          "metadata": {},
          "output_type": "execute_result"
        }
      ],
      "source": [
        "matches_df.shape"
      ]
    },
    {
      "cell_type": "code",
      "execution_count": 12,
      "metadata": {
        "colab": {
          "base_uri": "https://localhost:8080/"
        },
        "id": "WJheblV4Hc3D",
        "outputId": "e8da5ecb-8f3e-4571-888b-9d61a28a8a05"
      },
      "outputs": [
        {
          "data": {
            "text/plain": [
              "(14233, 17)"
            ]
          },
          "execution_count": 12,
          "metadata": {},
          "output_type": "execute_result"
        }
      ],
      "source": [
        "ball_df.shape"
      ]
    },
    {
      "cell_type": "code",
      "execution_count": 13,
      "metadata": {
        "colab": {
          "base_uri": "https://localhost:8080/"
        },
        "id": "zLsJVxHGIVYI",
        "outputId": "3fd434e4-2a95-4483-dbd7-51a4c85284a7"
      },
      "outputs": [
        {
          "data": {
            "text/plain": [
              "(71, 20)"
            ]
          },
          "execution_count": 13,
          "metadata": {},
          "output_type": "execute_result"
        }
      ],
      "source": [
        "match.shape"
      ]
    },
    {
      "cell_type": "markdown",
      "metadata": {
        "id": "JRoq-R1jIG7y"
      },
      "source": [
        "**ANALYSING NULL VALUES**"
      ]
    },
    {
      "cell_type": "code",
      "execution_count": 14,
      "metadata": {
        "colab": {
          "base_uri": "https://localhost:8080/"
        },
        "id": "nTiRLXMkG-PN",
        "outputId": "c9750148-05db-46bb-9ad2-f8df6696b5cc"
      },
      "outputs": [
        {
          "name": "stdout",
          "output_type": "stream",
          "text": [
            "<class 'pandas.core.frame.DataFrame'>\n",
            "RangeIndex: 59 entries, 0 to 58\n",
            "Data columns (total 20 columns):\n",
            " #   Column           Non-Null Count  Dtype  \n",
            "---  ------           --------------  -----  \n",
            " 0   ID               59 non-null     int64  \n",
            " 1   City             59 non-null     object \n",
            " 2   Date             59 non-null     object \n",
            " 3   Season           59 non-null     int64  \n",
            " 4   MatchNumber      59 non-null     int64  \n",
            " 5   Team1            59 non-null     object \n",
            " 6   Team2            59 non-null     object \n",
            " 7   Venue            59 non-null     object \n",
            " 8   TossWinner       59 non-null     object \n",
            " 9   TossDecision     59 non-null     object \n",
            " 10  SuperOver        59 non-null     object \n",
            " 11  WinningTeam      59 non-null     object \n",
            " 12  WonBy            59 non-null     object \n",
            " 13  Margin           59 non-null     int64  \n",
            " 14  method           0 non-null      float64\n",
            " 15  Player_of_Match  59 non-null     object \n",
            " 16  Team1Players     59 non-null     object \n",
            " 17  Team2Players     59 non-null     object \n",
            " 18  Umpire1          59 non-null     object \n",
            " 19  Umpire2          59 non-null     object \n",
            "dtypes: float64(1), int64(4), object(15)\n",
            "memory usage: 9.3+ KB\n"
          ]
        }
      ],
      "source": [
        "matches_df.info()"
      ]
    },
    {
      "cell_type": "code",
      "execution_count": null,
      "metadata": {
        "colab": {
          "base_uri": "https://localhost:8080/"
        },
        "id": "TBkRRwvsIOr6",
        "outputId": "2bee9113-a8bb-45f6-9475-8a4336645873"
      },
      "outputs": [
        {
          "name": "stdout",
          "output_type": "stream",
          "text": [
            "<class 'pandas.core.frame.DataFrame'>\n",
            "RangeIndex: 14233 entries, 0 to 14232\n",
            "Data columns (total 17 columns):\n",
            " #   Column             Non-Null Count  Dtype \n",
            "---  ------             --------------  ----- \n",
            " 0   ID                 14233 non-null  int64 \n",
            " 1   innings            14233 non-null  int64 \n",
            " 2   overs              14233 non-null  int64 \n",
            " 3   ballnumber         14233 non-null  int64 \n",
            " 4   batter             14233 non-null  object\n",
            " 5   bowler             14233 non-null  object\n",
            " 6   non-striker        14233 non-null  object\n",
            " 7   extra_type         844 non-null    object\n",
            " 8   batsman_run        14233 non-null  int64 \n",
            " 9   extras_run         14233 non-null  int64 \n",
            " 10  total_run          14233 non-null  int64 \n",
            " 11  non_boundary       14233 non-null  int64 \n",
            " 12  isWicketDelivery   14233 non-null  int64 \n",
            " 13  player_out         736 non-null    object\n",
            " 14  kind               736 non-null    object\n",
            " 15  fielders_involved  564 non-null    object\n",
            " 16  BattingTeam        14233 non-null  object\n",
            "dtypes: int64(9), object(8)\n",
            "memory usage: 1.8+ MB\n"
          ]
        }
      ],
      "source": [
        "ball_df.info()"
      ]
    },
    {
      "cell_type": "code",
      "execution_count": 22,
      "metadata": {
        "colab": {
          "base_uri": "https://localhost:8080/"
        },
        "id": "y6NGuF88Iay5",
        "outputId": "3979d047-1ab1-4717-eb00-f8bc3a2f15ae"
      },
      "outputs": [
        {
          "name": "stdout",
          "output_type": "stream",
          "text": [
            "<class 'pandas.core.frame.DataFrame'>\n",
            "RangeIndex: 71 entries, 0 to 70\n",
            "Data columns (total 20 columns):\n",
            " #   Column               Non-Null Count  Dtype \n",
            "---  ------               --------------  ----- \n",
            " 0   match_id             71 non-null     int64 \n",
            " 1   date                 71 non-null     object\n",
            " 2   venue                71 non-null     object\n",
            " 3   team1                71 non-null     object\n",
            " 4   team2                71 non-null     object\n",
            " 5   stage                71 non-null     object\n",
            " 6   toss_winner          71 non-null     object\n",
            " 7   toss_decision        71 non-null     object\n",
            " 8   first_ings_score     71 non-null     int64 \n",
            " 9   first_ings_wkts      71 non-null     int64 \n",
            " 10  second_ings_score    71 non-null     int64 \n",
            " 11  second_ings_wkts     71 non-null     int64 \n",
            " 12  match_winner         71 non-null     object\n",
            " 13  won_by               71 non-null     object\n",
            " 14  margin               71 non-null     int64 \n",
            " 15  player_of_the_match  70 non-null     object\n",
            " 16  top_scorer           71 non-null     object\n",
            " 17  highscore            71 non-null     int64 \n",
            " 18  best_bowling         71 non-null     object\n",
            " 19  best_bowling_figure  71 non-null     object\n",
            "dtypes: int64(7), object(13)\n",
            "memory usage: 11.2+ KB\n"
          ]
        }
      ],
      "source": [
        "match.info()"
      ]
    },
    {
      "cell_type": "markdown",
      "metadata": {
        "id": "J7giKPQZIZhI"
      },
      "source": [
        "**CLEANING NULL VALUES**"
      ]
    },
    {
      "cell_type": "markdown",
      "metadata": {
        "id": "kzIrW2JIInCK"
      },
      "source": [
        "CLEANING MATCH CSV DATAFRAME"
      ]
    },
    {
      "cell_type": "code",
      "execution_count": 21,
      "metadata": {
        "id": "evdbMnNQIRxa"
      },
      "outputs": [],
      "source": [
        "matches_df.drop([\"method\"],axis=1,inplace=True)"
      ]
    },
    {
      "cell_type": "markdown",
      "metadata": {
        "id": "V4GNr5RlIxKq"
      },
      "source": [
        "CLEANING BALL CSV DATAFRAME"
      ]
    },
    {
      "cell_type": "code",
      "execution_count": 20,
      "metadata": {
        "id": "zmiKawJmI_O4"
      },
      "outputs": [
        {
          "name": "stderr",
          "output_type": "stream",
          "text": [
            "C:\\Users\\hp\\AppData\\Local\\Temp\\ipykernel_8188\\3745790591.py:1: FutureWarning: A value is trying to be set on a copy of a DataFrame or Series through chained assignment using an inplace method.\n",
            "The behavior will change in pandas 3.0. This inplace method will never work because the intermediate object on which we are setting values always behaves as a copy.\n",
            "\n",
            "For example, when doing 'df[col].method(value, inplace=True)', try using 'df.method({col: value}, inplace=True)' or df[col] = df[col].method(value) instead, to perform the operation inplace on the original object.\n",
            "\n",
            "\n",
            "  ball_df[\"extra_type\"].fillna(\"Normal Delivery\",inplace=True)\n",
            "C:\\Users\\hp\\AppData\\Local\\Temp\\ipykernel_8188\\3745790591.py:2: FutureWarning: A value is trying to be set on a copy of a DataFrame or Series through chained assignment using an inplace method.\n",
            "The behavior will change in pandas 3.0. This inplace method will never work because the intermediate object on which we are setting values always behaves as a copy.\n",
            "\n",
            "For example, when doing 'df[col].method(value, inplace=True)', try using 'df.method({col: value}, inplace=True)' or df[col] = df[col].method(value) instead, to perform the operation inplace on the original object.\n",
            "\n",
            "\n",
            "  ball_df[\"player_out\"].fillna('No One Out',inplace=True)\n",
            "C:\\Users\\hp\\AppData\\Local\\Temp\\ipykernel_8188\\3745790591.py:3: FutureWarning: A value is trying to be set on a copy of a DataFrame or Series through chained assignment using an inplace method.\n",
            "The behavior will change in pandas 3.0. This inplace method will never work because the intermediate object on which we are setting values always behaves as a copy.\n",
            "\n",
            "For example, when doing 'df[col].method(value, inplace=True)', try using 'df.method({col: value}, inplace=True)' or df[col] = df[col].method(value) instead, to perform the operation inplace on the original object.\n",
            "\n",
            "\n",
            "  ball_df[\"kind\"].fillna(0,inplace=True)\n",
            "C:\\Users\\hp\\AppData\\Local\\Temp\\ipykernel_8188\\3745790591.py:4: FutureWarning: A value is trying to be set on a copy of a DataFrame or Series through chained assignment using an inplace method.\n",
            "The behavior will change in pandas 3.0. This inplace method will never work because the intermediate object on which we are setting values always behaves as a copy.\n",
            "\n",
            "For example, when doing 'df[col].method(value, inplace=True)', try using 'df.method({col: value}, inplace=True)' or df[col] = df[col].method(value) instead, to perform the operation inplace on the original object.\n",
            "\n",
            "\n",
            "  ball_df[\"fielders_involved\"].fillna(0,inplace=True)\n"
          ]
        }
      ],
      "source": [
        "ball_df[\"extra_type\"].fillna(\"Normal Delivery\",inplace=True)\n",
        "ball_df[\"player_out\"].fillna('No One Out',inplace=True)\n",
        "ball_df[\"kind\"].fillna(0,inplace=True)\n",
        "ball_df[\"fielders_involved\"].fillna(0,inplace=True)"
      ]
    },
    {
      "cell_type": "markdown",
      "metadata": {
        "id": "rNXtH1uMLTDU"
      },
      "source": [
        "##**WORKING ON QUESTIONS ALNAYSING AND THEIR SOLUTION**"
      ]
    },
    {
      "cell_type": "markdown",
      "metadata": {
        "id": "d926gayuLuhg"
      },
      "source": [
        "**BATTING**"
      ]
    },
    {
      "cell_type": "markdown",
      "metadata": {
        "id": "tmsQ9xLmL4vS"
      },
      "source": [
        "1.**HIGHEST SCRORER** BATTER IN IN OVERALL IPL 2022"
      ]
    },
    {
      "cell_type": "code",
      "execution_count": 19,
      "metadata": {
        "colab": {
          "base_uri": "https://localhost:8080/",
          "height": 112
        },
        "id": "lHqhzqNtK6cn",
        "outputId": "a7a0a18b-08ed-46a7-e49b-f3e1282ff051"
      },
      "outputs": [
        {
          "data": {
            "text/html": [
              "<div>\n",
              "<style scoped>\n",
              "    .dataframe tbody tr th:only-of-type {\n",
              "        vertical-align: middle;\n",
              "    }\n",
              "\n",
              "    .dataframe tbody tr th {\n",
              "        vertical-align: top;\n",
              "    }\n",
              "\n",
              "    .dataframe thead th {\n",
              "        text-align: right;\n",
              "    }\n",
              "</style>\n",
              "<table border=\"1\" class=\"dataframe\">\n",
              "  <thead>\n",
              "    <tr style=\"text-align: right;\">\n",
              "      <th></th>\n",
              "      <th>ID</th>\n",
              "      <th>innings</th>\n",
              "      <th>overs</th>\n",
              "      <th>ballnumber</th>\n",
              "      <th>bowler</th>\n",
              "      <th>non-striker</th>\n",
              "      <th>extra_type</th>\n",
              "      <th>batsman_run</th>\n",
              "      <th>extras_run</th>\n",
              "      <th>total_run</th>\n",
              "      <th>non_boundary</th>\n",
              "      <th>isWicketDelivery</th>\n",
              "      <th>player_out</th>\n",
              "      <th>kind</th>\n",
              "      <th>fielders_involved</th>\n",
              "      <th>BattingTeam</th>\n",
              "    </tr>\n",
              "    <tr>\n",
              "      <th>batter</th>\n",
              "      <th></th>\n",
              "      <th></th>\n",
              "      <th></th>\n",
              "      <th></th>\n",
              "      <th></th>\n",
              "      <th></th>\n",
              "      <th></th>\n",
              "      <th></th>\n",
              "      <th></th>\n",
              "      <th></th>\n",
              "      <th></th>\n",
              "      <th></th>\n",
              "      <th></th>\n",
              "      <th></th>\n",
              "      <th></th>\n",
              "      <th></th>\n",
              "    </tr>\n",
              "  </thead>\n",
              "  <tbody>\n",
              "    <tr>\n",
              "      <th>JC Buttler</th>\n",
              "      <td>560751651</td>\n",
              "      <td>470</td>\n",
              "      <td>2778</td>\n",
              "      <td>1538</td>\n",
              "      <td>C SakariyaC SakariyaC SakariyaC SakariyaC Saka...</td>\n",
              "      <td>YBK JaiswalYBK JaiswalYBK JaiswalYBK JaiswalYB...</td>\n",
              "      <td>wideswideswideswideslegbyeswideswidesnoballsby...</td>\n",
              "      <td>625</td>\n",
              "      <td>22</td>\n",
              "      <td>647</td>\n",
              "      <td>1</td>\n",
              "      <td>11</td>\n",
              "      <td>JC ButtlerJC ButtlerJC ButtlerJC ButtlerJC But...</td>\n",
              "      <td>caughtcaughtcaughtcaughtcaughtcaughtcaughtbowl...</td>\n",
              "      <td>SN ThakurPBB RajapaksaShivam MaviSA YadavMoham...</td>\n",
              "      <td>Rajasthan RoyalsRajasthan RoyalsRajasthan Roya...</td>\n",
              "    </tr>\n",
              "  </tbody>\n",
              "</table>\n",
              "</div>"
            ],
            "text/plain": [
              "                   ID  innings  overs  ballnumber  \\\n",
              "batter                                              \n",
              "JC Buttler  560751651      470   2778        1538   \n",
              "\n",
              "                                                       bowler  \\\n",
              "batter                                                          \n",
              "JC Buttler  C SakariyaC SakariyaC SakariyaC SakariyaC Saka...   \n",
              "\n",
              "                                                  non-striker  \\\n",
              "batter                                                          \n",
              "JC Buttler  YBK JaiswalYBK JaiswalYBK JaiswalYBK JaiswalYB...   \n",
              "\n",
              "                                                   extra_type  batsman_run  \\\n",
              "batter                                                                       \n",
              "JC Buttler  wideswideswideswideslegbyeswideswidesnoballsby...          625   \n",
              "\n",
              "            extras_run  total_run  non_boundary  isWicketDelivery  \\\n",
              "batter                                                              \n",
              "JC Buttler          22        647             1                11   \n",
              "\n",
              "                                                   player_out  \\\n",
              "batter                                                          \n",
              "JC Buttler  JC ButtlerJC ButtlerJC ButtlerJC ButtlerJC But...   \n",
              "\n",
              "                                                         kind  \\\n",
              "batter                                                          \n",
              "JC Buttler  caughtcaughtcaughtcaughtcaughtcaughtcaughtbowl...   \n",
              "\n",
              "                                            fielders_involved  \\\n",
              "batter                                                          \n",
              "JC Buttler  SN ThakurPBB RajapaksaShivam MaviSA YadavMoham...   \n",
              "\n",
              "                                                  BattingTeam  \n",
              "batter                                                         \n",
              "JC Buttler  Rajasthan RoyalsRajasthan RoyalsRajasthan Roya...  "
            ]
          },
          "execution_count": 19,
          "metadata": {},
          "output_type": "execute_result"
        }
      ],
      "source": [
        "ball_df.groupby(\"batter\").sum().sort_values([\"batsman_run\"],ascending=False).head(1)"
      ]
    },
    {
      "cell_type": "markdown",
      "metadata": {
        "id": "IiqGHCwlMA_r"
      },
      "source": [
        "2.**LOWEST SCRORER** BATTERS IN IN OVERALL IPL 2022"
      ]
    },
    {
      "cell_type": "code",
      "execution_count": 18,
      "metadata": {
        "colab": {
          "base_uri": "https://localhost:8080/",
          "height": 457
        },
        "id": "B-74y8lZM5R8",
        "outputId": "54ddf691-6e52-4990-a798-c882d7884e15"
      },
      "outputs": [
        {
          "data": {
            "text/html": [
              "<div>\n",
              "<style scoped>\n",
              "    .dataframe tbody tr th:only-of-type {\n",
              "        vertical-align: middle;\n",
              "    }\n",
              "\n",
              "    .dataframe tbody tr th {\n",
              "        vertical-align: top;\n",
              "    }\n",
              "\n",
              "    .dataframe thead th {\n",
              "        text-align: right;\n",
              "    }\n",
              "</style>\n",
              "<table border=\"1\" class=\"dataframe\">\n",
              "  <thead>\n",
              "    <tr style=\"text-align: right;\">\n",
              "      <th></th>\n",
              "      <th>ID</th>\n",
              "      <th>innings</th>\n",
              "      <th>overs</th>\n",
              "      <th>ballnumber</th>\n",
              "      <th>bowler</th>\n",
              "      <th>non-striker</th>\n",
              "      <th>extra_type</th>\n",
              "      <th>batsman_run</th>\n",
              "      <th>extras_run</th>\n",
              "      <th>total_run</th>\n",
              "      <th>non_boundary</th>\n",
              "      <th>isWicketDelivery</th>\n",
              "      <th>player_out</th>\n",
              "      <th>kind</th>\n",
              "      <th>fielders_involved</th>\n",
              "      <th>BattingTeam</th>\n",
              "    </tr>\n",
              "    <tr>\n",
              "      <th>batter</th>\n",
              "      <th></th>\n",
              "      <th></th>\n",
              "      <th></th>\n",
              "      <th></th>\n",
              "      <th></th>\n",
              "      <th></th>\n",
              "      <th></th>\n",
              "      <th></th>\n",
              "      <th></th>\n",
              "      <th></th>\n",
              "      <th></th>\n",
              "      <th></th>\n",
              "      <th></th>\n",
              "      <th></th>\n",
              "      <th></th>\n",
              "      <th></th>\n",
              "    </tr>\n",
              "  </thead>\n",
              "  <tbody>\n",
              "    <tr>\n",
              "      <th>K Gowtham</th>\n",
              "      <td>2608132</td>\n",
              "      <td>4</td>\n",
              "      <td>0</td>\n",
              "      <td>5</td>\n",
              "      <td>TA BoultTA Boult</td>\n",
              "      <td>Q de KockQ de Kock</td>\n",
              "      <td>wides</td>\n",
              "      <td>0</td>\n",
              "      <td>1</td>\n",
              "      <td>1</td>\n",
              "      <td>0</td>\n",
              "      <td>1</td>\n",
              "      <td>K Gowtham</td>\n",
              "      <td>lbw</td>\n",
              "      <td>0</td>\n",
              "      <td>Lucknow Super GiantsLucknow Super Giants</td>\n",
              "    </tr>\n",
              "    <tr>\n",
              "      <th>KK Ahmed</th>\n",
              "      <td>2608157</td>\n",
              "      <td>4</td>\n",
              "      <td>34</td>\n",
              "      <td>7</td>\n",
              "      <td>DJ BravoMohammed Shami</td>\n",
              "      <td>A NortjeKuldeep Yadav</td>\n",
              "      <td>0</td>\n",
              "      <td>0</td>\n",
              "      <td>0</td>\n",
              "      <td>0</td>\n",
              "      <td>0</td>\n",
              "      <td>2</td>\n",
              "      <td>KK AhmedKK Ahmed</td>\n",
              "      <td>bowledcaught</td>\n",
              "      <td>MS Wade</td>\n",
              "      <td>Delhi CapitalsDelhi Capitals</td>\n",
              "    </tr>\n",
              "    <tr>\n",
              "      <th>JJ Bumrah</th>\n",
              "      <td>6520359</td>\n",
              "      <td>10</td>\n",
              "      <td>94</td>\n",
              "      <td>32</td>\n",
              "      <td>KH PandyaKH PandyaOF SmithOF SmithM Prasidh Kr...</td>\n",
              "      <td>HR ShokeenHR ShokeenM AshwinM AshwinKA Pollard</td>\n",
              "      <td>wides</td>\n",
              "      <td>0</td>\n",
              "      <td>1</td>\n",
              "      <td>1</td>\n",
              "      <td>0</td>\n",
              "      <td>1</td>\n",
              "      <td>JJ Bumrah</td>\n",
              "      <td>caught</td>\n",
              "      <td>S Dhawan</td>\n",
              "      <td>Mumbai IndiansMumbai IndiansMumbai IndiansMumb...</td>\n",
              "    </tr>\n",
              "    <tr>\n",
              "      <th>KR Sen</th>\n",
              "      <td>3912210</td>\n",
              "      <td>6</td>\n",
              "      <td>57</td>\n",
              "      <td>15</td>\n",
              "      <td>Yash DayalYash DayalYash Dayal</td>\n",
              "      <td>M Prasidh KrishnaM Prasidh KrishnaM Prasidh Kr...</td>\n",
              "      <td>0</td>\n",
              "      <td>0</td>\n",
              "      <td>0</td>\n",
              "      <td>0</td>\n",
              "      <td>0</td>\n",
              "      <td>0</td>\n",
              "      <td>0</td>\n",
              "      <td>0</td>\n",
              "      <td>0</td>\n",
              "      <td>Rajasthan RoyalsRajasthan RoyalsRajasthan Royals</td>\n",
              "    </tr>\n",
              "    <tr>\n",
              "      <th>Akash Deep</th>\n",
              "      <td>2608136</td>\n",
              "      <td>4</td>\n",
              "      <td>30</td>\n",
              "      <td>7</td>\n",
              "      <td>RA JadejaRA Jadeja</td>\n",
              "      <td>KD KarthikKD Karthik</td>\n",
              "      <td>0</td>\n",
              "      <td>0</td>\n",
              "      <td>0</td>\n",
              "      <td>0</td>\n",
              "      <td>0</td>\n",
              "      <td>1</td>\n",
              "      <td>Akash Deep</td>\n",
              "      <td>caught</td>\n",
              "      <td>AT Rayudu</td>\n",
              "      <td>Royal Challengers BangaloreRoyal Challengers B...</td>\n",
              "    </tr>\n",
              "    <tr>\n",
              "      <th>Ravi Bishnoi</th>\n",
              "      <td>1304077</td>\n",
              "      <td>2</td>\n",
              "      <td>19</td>\n",
              "      <td>6</td>\n",
              "      <td>HV Patel</td>\n",
              "      <td>PVD Chameera</td>\n",
              "      <td>0</td>\n",
              "      <td>0</td>\n",
              "      <td>0</td>\n",
              "      <td>0</td>\n",
              "      <td>0</td>\n",
              "      <td>0</td>\n",
              "      <td>0</td>\n",
              "      <td>0</td>\n",
              "      <td>0</td>\n",
              "      <td>Lucknow Super Giants</td>\n",
              "    </tr>\n",
              "    <tr>\n",
              "      <th>NT Ellis</th>\n",
              "      <td>2608156</td>\n",
              "      <td>2</td>\n",
              "      <td>26</td>\n",
              "      <td>11</td>\n",
              "      <td>Kuldeep YadavKuldeep Yadav</td>\n",
              "      <td>M Shahrukh KhanM Shahrukh Khan</td>\n",
              "      <td>0</td>\n",
              "      <td>0</td>\n",
              "      <td>0</td>\n",
              "      <td>0</td>\n",
              "      <td>0</td>\n",
              "      <td>1</td>\n",
              "      <td>NT Ellis</td>\n",
              "      <td>bowled</td>\n",
              "      <td>0</td>\n",
              "      <td>Punjab KingsPunjab Kings</td>\n",
              "    </tr>\n",
              "    <tr>\n",
              "      <th>TS Mills</th>\n",
              "      <td>3912210</td>\n",
              "      <td>6</td>\n",
              "      <td>57</td>\n",
              "      <td>19</td>\n",
              "      <td>PVD ChameeraOF SmithOF Smith</td>\n",
              "      <td>JJ BumrahM AshwinM Ashwin</td>\n",
              "      <td>0</td>\n",
              "      <td>0</td>\n",
              "      <td>0</td>\n",
              "      <td>0</td>\n",
              "      <td>0</td>\n",
              "      <td>1</td>\n",
              "      <td>TS Mills</td>\n",
              "      <td>caught</td>\n",
              "      <td>MA Agarwal</td>\n",
              "      <td>Mumbai IndiansMumbai IndiansMumbai Indians</td>\n",
              "    </tr>\n",
              "    <tr>\n",
              "      <th>T Stubbs</th>\n",
              "      <td>2608210</td>\n",
              "      <td>4</td>\n",
              "      <td>8</td>\n",
              "      <td>11</td>\n",
              "      <td>Mukesh ChoudharyMukesh Choudhary</td>\n",
              "      <td>Tilak VarmaTilak Varma</td>\n",
              "      <td>0</td>\n",
              "      <td>0</td>\n",
              "      <td>0</td>\n",
              "      <td>0</td>\n",
              "      <td>0</td>\n",
              "      <td>1</td>\n",
              "      <td>T Stubbs</td>\n",
              "      <td>lbw</td>\n",
              "      <td>0</td>\n",
              "      <td>Mumbai IndiansMumbai Indians</td>\n",
              "    </tr>\n",
              "    <tr>\n",
              "      <th>RP Meredith</th>\n",
              "      <td>1304102</td>\n",
              "      <td>2</td>\n",
              "      <td>17</td>\n",
              "      <td>3</td>\n",
              "      <td>AD Russell</td>\n",
              "      <td>JJ Bumrah</td>\n",
              "      <td>0</td>\n",
              "      <td>0</td>\n",
              "      <td>0</td>\n",
              "      <td>0</td>\n",
              "      <td>0</td>\n",
              "      <td>1</td>\n",
              "      <td>JJ Bumrah</td>\n",
              "      <td>run out</td>\n",
              "      <td>RK Singh</td>\n",
              "      <td>Mumbai Indians</td>\n",
              "    </tr>\n",
              "    <tr>\n",
              "      <th>AS Roy</th>\n",
              "      <td>2608198</td>\n",
              "      <td>4</td>\n",
              "      <td>24</td>\n",
              "      <td>7</td>\n",
              "      <td>Avesh KhanAvesh Khan</td>\n",
              "      <td>SP NarineSP Narine</td>\n",
              "      <td>0</td>\n",
              "      <td>0</td>\n",
              "      <td>0</td>\n",
              "      <td>0</td>\n",
              "      <td>0</td>\n",
              "      <td>1</td>\n",
              "      <td>AS Roy</td>\n",
              "      <td>caught</td>\n",
              "      <td>Q de Kock</td>\n",
              "      <td>Kolkata Knight RidersKolkata Knight Riders</td>\n",
              "    </tr>\n",
              "    <tr>\n",
              "      <th>Yash Dayal</th>\n",
              "      <td>1304081</td>\n",
              "      <td>1</td>\n",
              "      <td>19</td>\n",
              "      <td>6</td>\n",
              "      <td>AD Russell</td>\n",
              "      <td>AS Joseph</td>\n",
              "      <td>0</td>\n",
              "      <td>0</td>\n",
              "      <td>0</td>\n",
              "      <td>0</td>\n",
              "      <td>0</td>\n",
              "      <td>1</td>\n",
              "      <td>Yash Dayal</td>\n",
              "      <td>caught and bowled</td>\n",
              "      <td>0</td>\n",
              "      <td>Gujarat Titans</td>\n",
              "    </tr>\n",
              "  </tbody>\n",
              "</table>\n",
              "</div>"
            ],
            "text/plain": [
              "                   ID  innings  overs  ballnumber  \\\n",
              "batter                                              \n",
              "K Gowtham     2608132        4      0           5   \n",
              "KK Ahmed      2608157        4     34           7   \n",
              "JJ Bumrah     6520359       10     94          32   \n",
              "KR Sen        3912210        6     57          15   \n",
              "Akash Deep    2608136        4     30           7   \n",
              "Ravi Bishnoi  1304077        2     19           6   \n",
              "NT Ellis      2608156        2     26          11   \n",
              "TS Mills      3912210        6     57          19   \n",
              "T Stubbs      2608210        4      8          11   \n",
              "RP Meredith   1304102        2     17           3   \n",
              "AS Roy        2608198        4     24           7   \n",
              "Yash Dayal    1304081        1     19           6   \n",
              "\n",
              "                                                         bowler  \\\n",
              "batter                                                            \n",
              "K Gowtham                                      TA BoultTA Boult   \n",
              "KK Ahmed                                 DJ BravoMohammed Shami   \n",
              "JJ Bumrah     KH PandyaKH PandyaOF SmithOF SmithM Prasidh Kr...   \n",
              "KR Sen                           Yash DayalYash DayalYash Dayal   \n",
              "Akash Deep                                   RA JadejaRA Jadeja   \n",
              "Ravi Bishnoi                                           HV Patel   \n",
              "NT Ellis                             Kuldeep YadavKuldeep Yadav   \n",
              "TS Mills                           PVD ChameeraOF SmithOF Smith   \n",
              "T Stubbs                       Mukesh ChoudharyMukesh Choudhary   \n",
              "RP Meredith                                          AD Russell   \n",
              "AS Roy                                     Avesh KhanAvesh Khan   \n",
              "Yash Dayal                                           AD Russell   \n",
              "\n",
              "                                                    non-striker extra_type  \\\n",
              "batter                                                                       \n",
              "K Gowtham                                    Q de KockQ de Kock      wides   \n",
              "KK Ahmed                                  A NortjeKuldeep Yadav          0   \n",
              "JJ Bumrah        HR ShokeenHR ShokeenM AshwinM AshwinKA Pollard      wides   \n",
              "KR Sen        M Prasidh KrishnaM Prasidh KrishnaM Prasidh Kr...          0   \n",
              "Akash Deep                                 KD KarthikKD Karthik          0   \n",
              "Ravi Bishnoi                                       PVD Chameera          0   \n",
              "NT Ellis                         M Shahrukh KhanM Shahrukh Khan          0   \n",
              "TS Mills                              JJ BumrahM AshwinM Ashwin          0   \n",
              "T Stubbs                                 Tilak VarmaTilak Varma          0   \n",
              "RP Meredith                                           JJ Bumrah          0   \n",
              "AS Roy                                       SP NarineSP Narine          0   \n",
              "Yash Dayal                                            AS Joseph          0   \n",
              "\n",
              "              batsman_run  extras_run  total_run  non_boundary  \\\n",
              "batter                                                           \n",
              "K Gowtham               0           1          1             0   \n",
              "KK Ahmed                0           0          0             0   \n",
              "JJ Bumrah               0           1          1             0   \n",
              "KR Sen                  0           0          0             0   \n",
              "Akash Deep              0           0          0             0   \n",
              "Ravi Bishnoi            0           0          0             0   \n",
              "NT Ellis                0           0          0             0   \n",
              "TS Mills                0           0          0             0   \n",
              "T Stubbs                0           0          0             0   \n",
              "RP Meredith             0           0          0             0   \n",
              "AS Roy                  0           0          0             0   \n",
              "Yash Dayal              0           0          0             0   \n",
              "\n",
              "              isWicketDelivery        player_out               kind  \\\n",
              "batter                                                                \n",
              "K Gowtham                    1         K Gowtham                lbw   \n",
              "KK Ahmed                     2  KK AhmedKK Ahmed       bowledcaught   \n",
              "JJ Bumrah                    1         JJ Bumrah             caught   \n",
              "KR Sen                       0                 0                  0   \n",
              "Akash Deep                   1        Akash Deep             caught   \n",
              "Ravi Bishnoi                 0                 0                  0   \n",
              "NT Ellis                     1          NT Ellis             bowled   \n",
              "TS Mills                     1          TS Mills             caught   \n",
              "T Stubbs                     1          T Stubbs                lbw   \n",
              "RP Meredith                  1         JJ Bumrah            run out   \n",
              "AS Roy                       1            AS Roy             caught   \n",
              "Yash Dayal                   1        Yash Dayal  caught and bowled   \n",
              "\n",
              "             fielders_involved  \\\n",
              "batter                           \n",
              "K Gowtham                    0   \n",
              "KK Ahmed               MS Wade   \n",
              "JJ Bumrah             S Dhawan   \n",
              "KR Sen                       0   \n",
              "Akash Deep           AT Rayudu   \n",
              "Ravi Bishnoi                 0   \n",
              "NT Ellis                     0   \n",
              "TS Mills            MA Agarwal   \n",
              "T Stubbs                     0   \n",
              "RP Meredith           RK Singh   \n",
              "AS Roy               Q de Kock   \n",
              "Yash Dayal                   0   \n",
              "\n",
              "                                                    BattingTeam  \n",
              "batter                                                           \n",
              "K Gowtham              Lucknow Super GiantsLucknow Super Giants  \n",
              "KK Ahmed                           Delhi CapitalsDelhi Capitals  \n",
              "JJ Bumrah     Mumbai IndiansMumbai IndiansMumbai IndiansMumb...  \n",
              "KR Sen         Rajasthan RoyalsRajasthan RoyalsRajasthan Royals  \n",
              "Akash Deep    Royal Challengers BangaloreRoyal Challengers B...  \n",
              "Ravi Bishnoi                               Lucknow Super Giants  \n",
              "NT Ellis                               Punjab KingsPunjab Kings  \n",
              "TS Mills             Mumbai IndiansMumbai IndiansMumbai Indians  \n",
              "T Stubbs                           Mumbai IndiansMumbai Indians  \n",
              "RP Meredith                                      Mumbai Indians  \n",
              "AS Roy               Kolkata Knight RidersKolkata Knight Riders  \n",
              "Yash Dayal                                       Gujarat Titans  "
            ]
          },
          "execution_count": 18,
          "metadata": {},
          "output_type": "execute_result"
        }
      ],
      "source": [
        "ball_df.groupby(\"batter\").sum().sort_values([\"batsman_run\"],ascending=False).tail(12)"
      ]
    },
    {
      "cell_type": "markdown",
      "metadata": {
        "id": "ZwinMgzYMo5r"
      },
      "source": [
        "**BOWLING**"
      ]
    },
    {
      "cell_type": "markdown",
      "metadata": {
        "id": "88O61bTaVWbL"
      },
      "source": [
        "1.BOWLER WHO TAKES **HIGHEST NUMBER OF WICKETS** OVER ALL IPL"
      ]
    },
    {
      "cell_type": "code",
      "execution_count": 17,
      "metadata": {
        "colab": {
          "base_uri": "https://localhost:8080/",
          "height": 81
        },
        "id": "2JlCySDLT1Ga",
        "outputId": "0504f3a1-a715-4937-9c59-e8fefc82a127"
      },
      "outputs": [
        {
          "data": {
            "text/html": [
              "<div>\n",
              "<style scoped>\n",
              "    .dataframe tbody tr th:only-of-type {\n",
              "        vertical-align: middle;\n",
              "    }\n",
              "\n",
              "    .dataframe tbody tr th {\n",
              "        vertical-align: top;\n",
              "    }\n",
              "\n",
              "    .dataframe thead th {\n",
              "        text-align: right;\n",
              "    }\n",
              "</style>\n",
              "<table border=\"1\" class=\"dataframe\">\n",
              "  <thead>\n",
              "    <tr style=\"text-align: right;\">\n",
              "      <th></th>\n",
              "      <th>bowler</th>\n",
              "      <th>No. of wickets</th>\n",
              "    </tr>\n",
              "  </thead>\n",
              "  <tbody>\n",
              "    <tr>\n",
              "      <th>0</th>\n",
              "      <td>M Prasidh Krishna</td>\n",
              "      <td>309</td>\n",
              "    </tr>\n",
              "  </tbody>\n",
              "</table>\n",
              "</div>"
            ],
            "text/plain": [
              "              bowler  No. of wickets\n",
              "0  M Prasidh Krishna             309"
            ]
          },
          "execution_count": 17,
          "metadata": {},
          "output_type": "execute_result"
        }
      ],
      "source": [
        "bowler=ball_df[ball_df['kind']!=0]['bowler'].value_counts().reset_index(name='No. of wickets')\n",
        "bowler.rename(columns={'index':'Bowler'}, inplace=True)\n",
        "bowler.head(1)"
      ]
    },
    {
      "cell_type": "markdown",
      "metadata": {
        "id": "U9M6AlsxNHgJ"
      },
      "source": [
        "2.BOWLER WHO TAKES **SMALLEST NUMBER OF WICKETS OVER ALL IPL**"
      ]
    },
    {
      "cell_type": "code",
      "execution_count": 16,
      "metadata": {
        "colab": {
          "base_uri": "https://localhost:8080/",
          "height": 739
        },
        "id": "RZkVb2I3NNI8",
        "outputId": "bb53fc01-7209-4028-fcde-bc7d61ecf954"
      },
      "outputs": [
        {
          "data": {
            "text/html": [
              "<div>\n",
              "<style scoped>\n",
              "    .dataframe tbody tr th:only-of-type {\n",
              "        vertical-align: middle;\n",
              "    }\n",
              "\n",
              "    .dataframe tbody tr th {\n",
              "        vertical-align: top;\n",
              "    }\n",
              "\n",
              "    .dataframe thead th {\n",
              "        text-align: right;\n",
              "    }\n",
              "</style>\n",
              "<table border=\"1\" class=\"dataframe\">\n",
              "  <thead>\n",
              "    <tr style=\"text-align: right;\">\n",
              "      <th></th>\n",
              "      <th>ID</th>\n",
              "      <th>innings</th>\n",
              "      <th>overs</th>\n",
              "      <th>ballnumber</th>\n",
              "      <th>batter</th>\n",
              "      <th>non-striker</th>\n",
              "      <th>extra_type</th>\n",
              "      <th>batsman_run</th>\n",
              "      <th>extras_run</th>\n",
              "      <th>total_run</th>\n",
              "      <th>non_boundary</th>\n",
              "      <th>isWicketDelivery</th>\n",
              "      <th>player_out</th>\n",
              "      <th>kind</th>\n",
              "      <th>fielders_involved</th>\n",
              "      <th>BattingTeam</th>\n",
              "    </tr>\n",
              "    <tr>\n",
              "      <th>bowler</th>\n",
              "      <th></th>\n",
              "      <th></th>\n",
              "      <th></th>\n",
              "      <th></th>\n",
              "      <th></th>\n",
              "      <th></th>\n",
              "      <th></th>\n",
              "      <th></th>\n",
              "      <th></th>\n",
              "      <th></th>\n",
              "      <th></th>\n",
              "      <th></th>\n",
              "      <th></th>\n",
              "      <th></th>\n",
              "      <th></th>\n",
              "      <th></th>\n",
              "    </tr>\n",
              "  </thead>\n",
              "  <tbody>\n",
              "    <tr>\n",
              "      <th>KL Nagarkoti</th>\n",
              "      <td>16952624</td>\n",
              "      <td>13</td>\n",
              "      <td>100</td>\n",
              "      <td>49</td>\n",
              "      <td>RG SharmaRG SharmaRG SharmaRG SharmaRG SharmaR...</td>\n",
              "      <td>Ishan KishanIshan KishanIshan KishanIshan Kish...</td>\n",
              "      <td>wides</td>\n",
              "      <td>28</td>\n",
              "      <td>1</td>\n",
              "      <td>29</td>\n",
              "      <td>0</td>\n",
              "      <td>0</td>\n",
              "      <td>0</td>\n",
              "      <td>0</td>\n",
              "      <td>0</td>\n",
              "      <td>Mumbai IndiansMumbai IndiansMumbai IndiansMumb...</td>\n",
              "    </tr>\n",
              "    <tr>\n",
              "      <th>Rasikh Salam</th>\n",
              "      <td>31297470</td>\n",
              "      <td>24</td>\n",
              "      <td>108</td>\n",
              "      <td>84</td>\n",
              "      <td>DA WarnerPP ShawPP ShawPP ShawDA WarnerDA Warn...</td>\n",
              "      <td>PP ShawDA WarnerDA WarnerDA WarnerPP ShawPP Sh...</td>\n",
              "      <td>0</td>\n",
              "      <td>28</td>\n",
              "      <td>0</td>\n",
              "      <td>28</td>\n",
              "      <td>0</td>\n",
              "      <td>0</td>\n",
              "      <td>0</td>\n",
              "      <td>0</td>\n",
              "      <td>0</td>\n",
              "      <td>Delhi CapitalsDelhi CapitalsDelhi CapitalsDelh...</td>\n",
              "    </tr>\n",
              "    <tr>\n",
              "      <th>Fazalhaq Farooqi</th>\n",
              "      <td>31298400</td>\n",
              "      <td>24</td>\n",
              "      <td>288</td>\n",
              "      <td>84</td>\n",
              "      <td>RM PatidarRM PatidarRM PatidarF du PlessisF du...</td>\n",
              "      <td>F du PlessisF du PlessisF du PlessisRM Patidar...</td>\n",
              "      <td>0</td>\n",
              "      <td>47</td>\n",
              "      <td>0</td>\n",
              "      <td>47</td>\n",
              "      <td>0</td>\n",
              "      <td>0</td>\n",
              "      <td>0</td>\n",
              "      <td>0</td>\n",
              "      <td>0</td>\n",
              "      <td>Royal Challengers BangaloreRoyal Challengers B...</td>\n",
              "    </tr>\n",
              "    <tr>\n",
              "      <th>S Dube</th>\n",
              "      <td>18256706</td>\n",
              "      <td>28</td>\n",
              "      <td>186</td>\n",
              "      <td>57</td>\n",
              "      <td>A BadoniA BadoniA BadoniA BadoniE LewisE Lewis...</td>\n",
              "      <td>E LewisE LewisE LewisE LewisA BadoniA BadoniA ...</td>\n",
              "      <td>wideswidesbyes</td>\n",
              "      <td>34</td>\n",
              "      <td>6</td>\n",
              "      <td>40</td>\n",
              "      <td>0</td>\n",
              "      <td>0</td>\n",
              "      <td>0</td>\n",
              "      <td>0</td>\n",
              "      <td>0</td>\n",
              "      <td>Lucknow Super GiantsLucknow Super GiantsLuckno...</td>\n",
              "    </tr>\n",
              "    <tr>\n",
              "      <th>R Powell</th>\n",
              "      <td>9128455</td>\n",
              "      <td>14</td>\n",
              "      <td>63</td>\n",
              "      <td>28</td>\n",
              "      <td>SS IyerSS IyerN RanaN RanaN RanaN RanaSS Iyer</td>\n",
              "      <td>N RanaN RanaSS IyerSS IyerSS IyerSS IyerN Rana</td>\n",
              "      <td>wides</td>\n",
              "      <td>16</td>\n",
              "      <td>1</td>\n",
              "      <td>17</td>\n",
              "      <td>0</td>\n",
              "      <td>0</td>\n",
              "      <td>0</td>\n",
              "      <td>0</td>\n",
              "      <td>0</td>\n",
              "      <td>Kolkata Knight RidersKolkata Knight RidersKolk...</td>\n",
              "    </tr>\n",
              "    <tr>\n",
              "      <th>Harpreet Brar</th>\n",
              "      <td>41729633</td>\n",
              "      <td>45</td>\n",
              "      <td>288</td>\n",
              "      <td>119</td>\n",
              "      <td>SW BillingsAD RussellSW BillingsSW BillingsAD ...</td>\n",
              "      <td>AD RussellSW BillingsAD RussellAD RussellSW Bi...</td>\n",
              "      <td>wideswides</td>\n",
              "      <td>55</td>\n",
              "      <td>3</td>\n",
              "      <td>58</td>\n",
              "      <td>0</td>\n",
              "      <td>0</td>\n",
              "      <td>0</td>\n",
              "      <td>0</td>\n",
              "      <td>0</td>\n",
              "      <td>Kolkata Knight RidersKolkata Knight RidersKolk...</td>\n",
              "    </tr>\n",
              "    <tr>\n",
              "      <th>SS Iyer</th>\n",
              "      <td>7824522</td>\n",
              "      <td>12</td>\n",
              "      <td>108</td>\n",
              "      <td>21</td>\n",
              "      <td>SN ThakurSN ThakurSN ThakurSN ThakurSN ThakurR...</td>\n",
              "      <td>R PowellR PowellR PowellR PowellR PowellSN Thakur</td>\n",
              "      <td>0</td>\n",
              "      <td>7</td>\n",
              "      <td>0</td>\n",
              "      <td>7</td>\n",
              "      <td>0</td>\n",
              "      <td>0</td>\n",
              "      <td>0</td>\n",
              "      <td>0</td>\n",
              "      <td>0</td>\n",
              "      <td>Delhi CapitalsDelhi CapitalsDelhi CapitalsDelh...</td>\n",
              "    </tr>\n",
              "    <tr>\n",
              "      <th>Shashank Singh</th>\n",
              "      <td>16953049</td>\n",
              "      <td>13</td>\n",
              "      <td>127</td>\n",
              "      <td>49</td>\n",
              "      <td>RD GaikwadDP ConwayDP ConwayRD GaikwadDP Conwa...</td>\n",
              "      <td>DP ConwayRD GaikwadRD GaikwadDP ConwayRD Gaikw...</td>\n",
              "      <td>wides</td>\n",
              "      <td>19</td>\n",
              "      <td>1</td>\n",
              "      <td>20</td>\n",
              "      <td>0</td>\n",
              "      <td>0</td>\n",
              "      <td>0</td>\n",
              "      <td>0</td>\n",
              "      <td>0</td>\n",
              "      <td>Chennai Super KingsChennai Super KingsChennai ...</td>\n",
              "    </tr>\n",
              "    <tr>\n",
              "      <th>DJ Mitchell</th>\n",
              "      <td>16953135</td>\n",
              "      <td>26</td>\n",
              "      <td>85</td>\n",
              "      <td>49</td>\n",
              "      <td>SA YadavSA YadavTilak VarmaTilak VarmaSA Yadav...</td>\n",
              "      <td>Tilak VarmaTilak VarmaSA YadavSA YadavTilak Va...</td>\n",
              "      <td>wides</td>\n",
              "      <td>26</td>\n",
              "      <td>1</td>\n",
              "      <td>27</td>\n",
              "      <td>0</td>\n",
              "      <td>0</td>\n",
              "      <td>0</td>\n",
              "      <td>0</td>\n",
              "      <td>0</td>\n",
              "      <td>Mumbai IndiansMumbai IndiansMumbai IndiansMumb...</td>\n",
              "    </tr>\n",
              "    <tr>\n",
              "      <th>Aman Hakim Khan</th>\n",
              "      <td>7824426</td>\n",
              "      <td>12</td>\n",
              "      <td>36</td>\n",
              "      <td>21</td>\n",
              "      <td>AK MarkramRA TripathiRA TripathiRA TripathiAK ...</td>\n",
              "      <td>RA TripathiAK MarkramAK MarkramAK MarkramRA Tr...</td>\n",
              "      <td>0</td>\n",
              "      <td>13</td>\n",
              "      <td>0</td>\n",
              "      <td>13</td>\n",
              "      <td>0</td>\n",
              "      <td>0</td>\n",
              "      <td>0</td>\n",
              "      <td>0</td>\n",
              "      <td>0</td>\n",
              "      <td>Sunrisers HyderabadSunrisers HyderabadSunriser...</td>\n",
              "    </tr>\n",
              "    <tr>\n",
              "      <th>NT Ellis</th>\n",
              "      <td>18257092</td>\n",
              "      <td>28</td>\n",
              "      <td>98</td>\n",
              "      <td>56</td>\n",
              "      <td>PP ShawPP ShawPP ShawPP ShawPP ShawDA WarnerDA...</td>\n",
              "      <td>DA WarnerDA WarnerDA WarnerDA WarnerDA WarnerP...</td>\n",
              "      <td>wideswides</td>\n",
              "      <td>13</td>\n",
              "      <td>2</td>\n",
              "      <td>15</td>\n",
              "      <td>0</td>\n",
              "      <td>0</td>\n",
              "      <td>0</td>\n",
              "      <td>0</td>\n",
              "      <td>0</td>\n",
              "      <td>Delhi CapitalsDelhi CapitalsDelhi CapitalsDelh...</td>\n",
              "    </tr>\n",
              "    <tr>\n",
              "      <th>JDS Neesham</th>\n",
              "      <td>23473260</td>\n",
              "      <td>18</td>\n",
              "      <td>108</td>\n",
              "      <td>63</td>\n",
              "      <td>MS WadeMS WadeMS WadeMS WadeMS WadeMS WadeA Ma...</td>\n",
              "      <td>Shubman GillShubman GillShubman GillShubman Gi...</td>\n",
              "      <td>0</td>\n",
              "      <td>29</td>\n",
              "      <td>0</td>\n",
              "      <td>29</td>\n",
              "      <td>0</td>\n",
              "      <td>0</td>\n",
              "      <td>0</td>\n",
              "      <td>0</td>\n",
              "      <td>0</td>\n",
              "      <td>Gujarat TitansGujarat TitansGujarat TitansGuja...</td>\n",
              "    </tr>\n",
              "    <tr>\n",
              "      <th>Abdul Samad</th>\n",
              "      <td>7824348</td>\n",
              "      <td>6</td>\n",
              "      <td>42</td>\n",
              "      <td>21</td>\n",
              "      <td>KL RahulKL RahulDJ HoodaDJ HoodaKL RahulDJ Hooda</td>\n",
              "      <td>DJ HoodaDJ HoodaKL RahulKL RahulDJ HoodaKL Rahul</td>\n",
              "      <td>0</td>\n",
              "      <td>8</td>\n",
              "      <td>0</td>\n",
              "      <td>8</td>\n",
              "      <td>0</td>\n",
              "      <td>0</td>\n",
              "      <td>0</td>\n",
              "      <td>0</td>\n",
              "      <td>0</td>\n",
              "      <td>Lucknow Super GiantsLucknow Super GiantsLuckno...</td>\n",
              "    </tr>\n",
              "    <tr>\n",
              "      <th>NM Coulter-Nile</th>\n",
              "      <td>26081020</td>\n",
              "      <td>40</td>\n",
              "      <td>235</td>\n",
              "      <td>71</td>\n",
              "      <td>Abhishek SharmaAK MarkramAK MarkramAK MarkramA...</td>\n",
              "      <td>AK MarkramAbhishek SharmaAbhishek SharmaAbhish...</td>\n",
              "      <td>wideslegbyesnoballs</td>\n",
              "      <td>46</td>\n",
              "      <td>3</td>\n",
              "      <td>49</td>\n",
              "      <td>0</td>\n",
              "      <td>0</td>\n",
              "      <td>0</td>\n",
              "      <td>0</td>\n",
              "      <td>0</td>\n",
              "      <td>Sunrisers HyderabadSunrisers HyderabadSunriser...</td>\n",
              "    </tr>\n",
              "    <tr>\n",
              "      <th>Tilak Varma</th>\n",
              "      <td>15648792</td>\n",
              "      <td>18</td>\n",
              "      <td>36</td>\n",
              "      <td>42</td>\n",
              "      <td>KL RahulKL RahulKL RahulKL RahulQ de KockKL Ra...</td>\n",
              "      <td>Q de KockQ de KockQ de KockQ de KockKL RahulQ ...</td>\n",
              "      <td>0</td>\n",
              "      <td>13</td>\n",
              "      <td>0</td>\n",
              "      <td>13</td>\n",
              "      <td>0</td>\n",
              "      <td>0</td>\n",
              "      <td>0</td>\n",
              "      <td>0</td>\n",
              "      <td>0</td>\n",
              "      <td>Lucknow Super GiantsLucknow Super GiantsLuckno...</td>\n",
              "    </tr>\n",
              "    <tr>\n",
              "      <th>N Rana</th>\n",
              "      <td>7824522</td>\n",
              "      <td>12</td>\n",
              "      <td>48</td>\n",
              "      <td>21</td>\n",
              "      <td>Lalit YadavLalit YadavDA WarnerDA WarnerDA War...</td>\n",
              "      <td>DA WarnerDA WarnerLalit YadavLalit YadavLalit ...</td>\n",
              "      <td>0</td>\n",
              "      <td>14</td>\n",
              "      <td>0</td>\n",
              "      <td>14</td>\n",
              "      <td>0</td>\n",
              "      <td>0</td>\n",
              "      <td>0</td>\n",
              "      <td>0</td>\n",
              "      <td>0</td>\n",
              "      <td>Delhi CapitalsDelhi CapitalsDelhi CapitalsDelh...</td>\n",
              "    </tr>\n",
              "    <tr>\n",
              "      <th>MK Lomror</th>\n",
              "      <td>7824600</td>\n",
              "      <td>12</td>\n",
              "      <td>36</td>\n",
              "      <td>21</td>\n",
              "      <td>AK MarkramRA TripathiAK MarkramAK MarkramRA Tr...</td>\n",
              "      <td>RA TripathiAK MarkramRA TripathiRA TripathiAK ...</td>\n",
              "      <td>0</td>\n",
              "      <td>7</td>\n",
              "      <td>0</td>\n",
              "      <td>7</td>\n",
              "      <td>0</td>\n",
              "      <td>0</td>\n",
              "      <td>0</td>\n",
              "      <td>0</td>\n",
              "      <td>0</td>\n",
              "      <td>Sunrisers HyderabadSunrisers HyderabadSunriser...</td>\n",
              "    </tr>\n",
              "    <tr>\n",
              "      <th>AF Milne</th>\n",
              "      <td>19560705</td>\n",
              "      <td>30</td>\n",
              "      <td>78</td>\n",
              "      <td>48</td>\n",
              "      <td>VR IyerVR IyerVR IyerVR IyerVR IyerVR IyerAM R...</td>\n",
              "      <td>AM RahaneAM RahaneAM RahaneAM RahaneAM RahaneA...</td>\n",
              "      <td>0</td>\n",
              "      <td>19</td>\n",
              "      <td>0</td>\n",
              "      <td>19</td>\n",
              "      <td>0</td>\n",
              "      <td>0</td>\n",
              "      <td>0</td>\n",
              "      <td>0</td>\n",
              "      <td>0</td>\n",
              "      <td>Kolkata Knight RidersKolkata Knight RidersKolk...</td>\n",
              "    </tr>\n",
              "    <tr>\n",
              "      <th>VR Iyer</th>\n",
              "      <td>31297836</td>\n",
              "      <td>42</td>\n",
              "      <td>300</td>\n",
              "      <td>84</td>\n",
              "      <td>Ramandeep SinghRamandeep SinghIshan KishanRama...</td>\n",
              "      <td>Ishan KishanIshan KishanRamandeep SinghIshan K...</td>\n",
              "      <td>0</td>\n",
              "      <td>46</td>\n",
              "      <td>0</td>\n",
              "      <td>46</td>\n",
              "      <td>0</td>\n",
              "      <td>0</td>\n",
              "      <td>0</td>\n",
              "      <td>0</td>\n",
              "      <td>0</td>\n",
              "      <td>Mumbai IndiansMumbai IndiansMumbai IndiansMumb...</td>\n",
              "    </tr>\n",
              "    <tr>\n",
              "      <th>YBK Jaiswal</th>\n",
              "      <td>1304059</td>\n",
              "      <td>2</td>\n",
              "      <td>19</td>\n",
              "      <td>1</td>\n",
              "      <td>HV Patel</td>\n",
              "      <td>KD Karthik</td>\n",
              "      <td>0</td>\n",
              "      <td>6</td>\n",
              "      <td>0</td>\n",
              "      <td>6</td>\n",
              "      <td>0</td>\n",
              "      <td>0</td>\n",
              "      <td>0</td>\n",
              "      <td>0</td>\n",
              "      <td>0</td>\n",
              "      <td>Royal Challengers Bangalore</td>\n",
              "    </tr>\n",
              "    <tr>\n",
              "      <th>Abhishek Sharma</th>\n",
              "      <td>23473506</td>\n",
              "      <td>18</td>\n",
              "      <td>150</td>\n",
              "      <td>63</td>\n",
              "      <td>RM PatidarRM PatidarF du PlessisF du PlessisRM...</td>\n",
              "      <td>F du PlessisF du PlessisRM PatidarRM PatidarF ...</td>\n",
              "      <td>0</td>\n",
              "      <td>28</td>\n",
              "      <td>0</td>\n",
              "      <td>28</td>\n",
              "      <td>0</td>\n",
              "      <td>0</td>\n",
              "      <td>0</td>\n",
              "      <td>0</td>\n",
              "      <td>0</td>\n",
              "      <td>Royal Challengers BangaloreRoyal Challengers B...</td>\n",
              "    </tr>\n",
              "  </tbody>\n",
              "</table>\n",
              "</div>"
            ],
            "text/plain": [
              "                        ID  innings  overs  ballnumber  \\\n",
              "bowler                                                   \n",
              "KL Nagarkoti      16952624       13    100          49   \n",
              "Rasikh Salam      31297470       24    108          84   \n",
              "Fazalhaq Farooqi  31298400       24    288          84   \n",
              "S Dube            18256706       28    186          57   \n",
              "R Powell           9128455       14     63          28   \n",
              "Harpreet Brar     41729633       45    288         119   \n",
              "SS Iyer            7824522       12    108          21   \n",
              "Shashank Singh    16953049       13    127          49   \n",
              "DJ Mitchell       16953135       26     85          49   \n",
              "Aman Hakim Khan    7824426       12     36          21   \n",
              "NT Ellis          18257092       28     98          56   \n",
              "JDS Neesham       23473260       18    108          63   \n",
              "Abdul Samad        7824348        6     42          21   \n",
              "NM Coulter-Nile   26081020       40    235          71   \n",
              "Tilak Varma       15648792       18     36          42   \n",
              "N Rana             7824522       12     48          21   \n",
              "MK Lomror          7824600       12     36          21   \n",
              "AF Milne          19560705       30     78          48   \n",
              "VR Iyer           31297836       42    300          84   \n",
              "YBK Jaiswal        1304059        2     19           1   \n",
              "Abhishek Sharma   23473506       18    150          63   \n",
              "\n",
              "                                                             batter  \\\n",
              "bowler                                                                \n",
              "KL Nagarkoti      RG SharmaRG SharmaRG SharmaRG SharmaRG SharmaR...   \n",
              "Rasikh Salam      DA WarnerPP ShawPP ShawPP ShawDA WarnerDA Warn...   \n",
              "Fazalhaq Farooqi  RM PatidarRM PatidarRM PatidarF du PlessisF du...   \n",
              "S Dube            A BadoniA BadoniA BadoniA BadoniE LewisE Lewis...   \n",
              "R Powell              SS IyerSS IyerN RanaN RanaN RanaN RanaSS Iyer   \n",
              "Harpreet Brar     SW BillingsAD RussellSW BillingsSW BillingsAD ...   \n",
              "SS Iyer           SN ThakurSN ThakurSN ThakurSN ThakurSN ThakurR...   \n",
              "Shashank Singh    RD GaikwadDP ConwayDP ConwayRD GaikwadDP Conwa...   \n",
              "DJ Mitchell       SA YadavSA YadavTilak VarmaTilak VarmaSA Yadav...   \n",
              "Aman Hakim Khan   AK MarkramRA TripathiRA TripathiRA TripathiAK ...   \n",
              "NT Ellis          PP ShawPP ShawPP ShawPP ShawPP ShawDA WarnerDA...   \n",
              "JDS Neesham       MS WadeMS WadeMS WadeMS WadeMS WadeMS WadeA Ma...   \n",
              "Abdul Samad        KL RahulKL RahulDJ HoodaDJ HoodaKL RahulDJ Hooda   \n",
              "NM Coulter-Nile   Abhishek SharmaAK MarkramAK MarkramAK MarkramA...   \n",
              "Tilak Varma       KL RahulKL RahulKL RahulKL RahulQ de KockKL Ra...   \n",
              "N Rana            Lalit YadavLalit YadavDA WarnerDA WarnerDA War...   \n",
              "MK Lomror         AK MarkramRA TripathiAK MarkramAK MarkramRA Tr...   \n",
              "AF Milne          VR IyerVR IyerVR IyerVR IyerVR IyerVR IyerAM R...   \n",
              "VR Iyer           Ramandeep SinghRamandeep SinghIshan KishanRama...   \n",
              "YBK Jaiswal                                                HV Patel   \n",
              "Abhishek Sharma   RM PatidarRM PatidarF du PlessisF du PlessisRM...   \n",
              "\n",
              "                                                        non-striker  \\\n",
              "bowler                                                                \n",
              "KL Nagarkoti      Ishan KishanIshan KishanIshan KishanIshan Kish...   \n",
              "Rasikh Salam      PP ShawDA WarnerDA WarnerDA WarnerPP ShawPP Sh...   \n",
              "Fazalhaq Farooqi  F du PlessisF du PlessisF du PlessisRM Patidar...   \n",
              "S Dube            E LewisE LewisE LewisE LewisA BadoniA BadoniA ...   \n",
              "R Powell             N RanaN RanaSS IyerSS IyerSS IyerSS IyerN Rana   \n",
              "Harpreet Brar     AD RussellSW BillingsAD RussellAD RussellSW Bi...   \n",
              "SS Iyer           R PowellR PowellR PowellR PowellR PowellSN Thakur   \n",
              "Shashank Singh    DP ConwayRD GaikwadRD GaikwadDP ConwayRD Gaikw...   \n",
              "DJ Mitchell       Tilak VarmaTilak VarmaSA YadavSA YadavTilak Va...   \n",
              "Aman Hakim Khan   RA TripathiAK MarkramAK MarkramAK MarkramRA Tr...   \n",
              "NT Ellis          DA WarnerDA WarnerDA WarnerDA WarnerDA WarnerP...   \n",
              "JDS Neesham       Shubman GillShubman GillShubman GillShubman Gi...   \n",
              "Abdul Samad        DJ HoodaDJ HoodaKL RahulKL RahulDJ HoodaKL Rahul   \n",
              "NM Coulter-Nile   AK MarkramAbhishek SharmaAbhishek SharmaAbhish...   \n",
              "Tilak Varma       Q de KockQ de KockQ de KockQ de KockKL RahulQ ...   \n",
              "N Rana            DA WarnerDA WarnerLalit YadavLalit YadavLalit ...   \n",
              "MK Lomror         RA TripathiAK MarkramRA TripathiRA TripathiAK ...   \n",
              "AF Milne          AM RahaneAM RahaneAM RahaneAM RahaneAM RahaneA...   \n",
              "VR Iyer           Ishan KishanIshan KishanRamandeep SinghIshan K...   \n",
              "YBK Jaiswal                                              KD Karthik   \n",
              "Abhishek Sharma   F du PlessisF du PlessisRM PatidarRM PatidarF ...   \n",
              "\n",
              "                           extra_type  batsman_run  extras_run  total_run  \\\n",
              "bowler                                                                      \n",
              "KL Nagarkoti                    wides           28           1         29   \n",
              "Rasikh Salam                        0           28           0         28   \n",
              "Fazalhaq Farooqi                    0           47           0         47   \n",
              "S Dube                 wideswidesbyes           34           6         40   \n",
              "R Powell                        wides           16           1         17   \n",
              "Harpreet Brar              wideswides           55           3         58   \n",
              "SS Iyer                             0            7           0          7   \n",
              "Shashank Singh                  wides           19           1         20   \n",
              "DJ Mitchell                     wides           26           1         27   \n",
              "Aman Hakim Khan                     0           13           0         13   \n",
              "NT Ellis                   wideswides           13           2         15   \n",
              "JDS Neesham                         0           29           0         29   \n",
              "Abdul Samad                         0            8           0          8   \n",
              "NM Coulter-Nile   wideslegbyesnoballs           46           3         49   \n",
              "Tilak Varma                         0           13           0         13   \n",
              "N Rana                              0           14           0         14   \n",
              "MK Lomror                           0            7           0          7   \n",
              "AF Milne                            0           19           0         19   \n",
              "VR Iyer                             0           46           0         46   \n",
              "YBK Jaiswal                         0            6           0          6   \n",
              "Abhishek Sharma                     0           28           0         28   \n",
              "\n",
              "                  non_boundary  isWicketDelivery player_out kind  \\\n",
              "bowler                                                             \n",
              "KL Nagarkoti                 0                 0          0    0   \n",
              "Rasikh Salam                 0                 0          0    0   \n",
              "Fazalhaq Farooqi             0                 0          0    0   \n",
              "S Dube                       0                 0          0    0   \n",
              "R Powell                     0                 0          0    0   \n",
              "Harpreet Brar                0                 0          0    0   \n",
              "SS Iyer                      0                 0          0    0   \n",
              "Shashank Singh               0                 0          0    0   \n",
              "DJ Mitchell                  0                 0          0    0   \n",
              "Aman Hakim Khan              0                 0          0    0   \n",
              "NT Ellis                     0                 0          0    0   \n",
              "JDS Neesham                  0                 0          0    0   \n",
              "Abdul Samad                  0                 0          0    0   \n",
              "NM Coulter-Nile              0                 0          0    0   \n",
              "Tilak Varma                  0                 0          0    0   \n",
              "N Rana                       0                 0          0    0   \n",
              "MK Lomror                    0                 0          0    0   \n",
              "AF Milne                     0                 0          0    0   \n",
              "VR Iyer                      0                 0          0    0   \n",
              "YBK Jaiswal                  0                 0          0    0   \n",
              "Abhishek Sharma              0                 0          0    0   \n",
              "\n",
              "                 fielders_involved  \\\n",
              "bowler                               \n",
              "KL Nagarkoti                     0   \n",
              "Rasikh Salam                     0   \n",
              "Fazalhaq Farooqi                 0   \n",
              "S Dube                           0   \n",
              "R Powell                         0   \n",
              "Harpreet Brar                    0   \n",
              "SS Iyer                          0   \n",
              "Shashank Singh                   0   \n",
              "DJ Mitchell                      0   \n",
              "Aman Hakim Khan                  0   \n",
              "NT Ellis                         0   \n",
              "JDS Neesham                      0   \n",
              "Abdul Samad                      0   \n",
              "NM Coulter-Nile                  0   \n",
              "Tilak Varma                      0   \n",
              "N Rana                           0   \n",
              "MK Lomror                        0   \n",
              "AF Milne                         0   \n",
              "VR Iyer                          0   \n",
              "YBK Jaiswal                      0   \n",
              "Abhishek Sharma                  0   \n",
              "\n",
              "                                                        BattingTeam  \n",
              "bowler                                                               \n",
              "KL Nagarkoti      Mumbai IndiansMumbai IndiansMumbai IndiansMumb...  \n",
              "Rasikh Salam      Delhi CapitalsDelhi CapitalsDelhi CapitalsDelh...  \n",
              "Fazalhaq Farooqi  Royal Challengers BangaloreRoyal Challengers B...  \n",
              "S Dube            Lucknow Super GiantsLucknow Super GiantsLuckno...  \n",
              "R Powell          Kolkata Knight RidersKolkata Knight RidersKolk...  \n",
              "Harpreet Brar     Kolkata Knight RidersKolkata Knight RidersKolk...  \n",
              "SS Iyer           Delhi CapitalsDelhi CapitalsDelhi CapitalsDelh...  \n",
              "Shashank Singh    Chennai Super KingsChennai Super KingsChennai ...  \n",
              "DJ Mitchell       Mumbai IndiansMumbai IndiansMumbai IndiansMumb...  \n",
              "Aman Hakim Khan   Sunrisers HyderabadSunrisers HyderabadSunriser...  \n",
              "NT Ellis          Delhi CapitalsDelhi CapitalsDelhi CapitalsDelh...  \n",
              "JDS Neesham       Gujarat TitansGujarat TitansGujarat TitansGuja...  \n",
              "Abdul Samad       Lucknow Super GiantsLucknow Super GiantsLuckno...  \n",
              "NM Coulter-Nile   Sunrisers HyderabadSunrisers HyderabadSunriser...  \n",
              "Tilak Varma       Lucknow Super GiantsLucknow Super GiantsLuckno...  \n",
              "N Rana            Delhi CapitalsDelhi CapitalsDelhi CapitalsDelh...  \n",
              "MK Lomror         Sunrisers HyderabadSunrisers HyderabadSunriser...  \n",
              "AF Milne          Kolkata Knight RidersKolkata Knight RidersKolk...  \n",
              "VR Iyer           Mumbai IndiansMumbai IndiansMumbai IndiansMumb...  \n",
              "YBK Jaiswal                             Royal Challengers Bangalore  \n",
              "Abhishek Sharma   Royal Challengers BangaloreRoyal Challengers B...  "
            ]
          },
          "execution_count": 16,
          "metadata": {},
          "output_type": "execute_result"
        }
      ],
      "source": [
        "ball_df.groupby(\"bowler\").sum().sort_values([\"isWicketDelivery\"],ascending=True).head(21)"
      ]
    },
    {
      "cell_type": "markdown",
      "metadata": {
        "id": "FhEKmKPkbD-z"
      },
      "source": [
        "**STATS OF TOP 5 BOWLERS** "
      ]
    },
    {
      "cell_type": "code",
      "execution_count": 23,
      "metadata": {
        "id": "3HJVVvckZ-Ay"
      },
      "outputs": [],
      "source": [
        "bowler5=bowler.head(5)"
      ]
    },
    {
      "cell_type": "code",
      "execution_count": 25,
      "metadata": {},
      "outputs": [
        {
          "name": "stdout",
          "output_type": "stream",
          "text": [
            "Index(['bowler', 'No. of wickets'], dtype='object')\n"
          ]
        }
      ],
      "source": [
        "print(bowler.columns)\n"
      ]
    },
    {
      "cell_type": "code",
      "execution_count": 26,
      "metadata": {
        "colab": {
          "base_uri": "https://localhost:8080/",
          "height": 412
        },
        "id": "rmaw3K8iXoqt",
        "outputId": "0eff3b67-4158-4a26-c0ad-bdee0818f969"
      },
      "outputs": [
        {
          "data": {
            "image/png": "[encoded data removed]",
            "text/plain": [
              "<Figure size 1000x500 with 1 Axes>"
            ]
          },
          "metadata": {},
          "output_type": "display_data"
        }
      ],
      "source": [
        "plt.figure(figsize=(10,5))\n",
        "plt.bar(bowler5['bowler'],bowler5['No. of wickets'],color='green',width=0.2)\n",
        "plt.xticks(rotation=90)\n",
        "plt.title('Bowler Stats')\n",
        "plt.xlabel('Bowler')\n",
        "plt.ylabel('Wicket_Count')\n",
        "plt.show()"
      ]
    },
    {
      "cell_type": "markdown",
      "metadata": {
        "id": "iIG9RG4tN2uE"
      },
      "source": [
        "**DIFFERENT WICKET TYPES AND WHO TAKES LARGEST NUMBERS**"
      ]
    },
    {
      "cell_type": "markdown",
      "metadata": {
        "id": "Magxf99cOsNu"
      },
      "source": [
        "**TYPES OF WICKETS IN DATAFRAME**"
      ]
    },
    {
      "cell_type": "code",
      "execution_count": 26,
      "metadata": {
        "colab": {
          "base_uri": "https://localhost:8080/"
        },
        "id": "TAU2-pyqNac0",
        "outputId": "530d31bc-5e76-4948-a501-b6cc994c1330"
      },
      "outputs": [
        {
          "data": {
            "text/plain": [
              "[nan,\n",
              " 'lbw',\n",
              " 'caught',\n",
              " 'run out',\n",
              " 'bowled',\n",
              " 'stumped',\n",
              " 'caught and bowled',\n",
              " 'hit wicket',\n",
              " 'retired hurt',\n",
              " 'retired out']"
            ]
          },
          "execution_count": 26,
          "metadata": {},
          "output_type": "execute_result"
        }
      ],
      "source": [
        "list(ball_df['kind'].unique())"
      ]
    },
    {
      "cell_type": "markdown",
      "metadata": {
        "id": "hM4QoZVkO46F"
      },
      "source": [
        "**FILDER WHO TAKES CATCHES**"
      ]
    },
    {
      "cell_type": "code",
      "execution_count": 27,
      "metadata": {
        "colab": {
          "base_uri": "https://localhost:8080/",
          "height": 206
        },
        "id": "ZMh4a7YjOwAd",
        "outputId": "b8485db3-c28a-45c4-fb53-2b5626a58539"
      },
      "outputs": [
        {
          "data": {
            "text/html": [
              "<div>\n",
              "<style scoped>\n",
              "    .dataframe tbody tr th:only-of-type {\n",
              "        vertical-align: middle;\n",
              "    }\n",
              "\n",
              "    .dataframe tbody tr th {\n",
              "        vertical-align: top;\n",
              "    }\n",
              "\n",
              "    .dataframe thead th {\n",
              "        text-align: right;\n",
              "    }\n",
              "</style>\n",
              "<table border=\"1\" class=\"dataframe\">\n",
              "  <thead>\n",
              "    <tr style=\"text-align: right;\">\n",
              "      <th></th>\n",
              "      <th>No. of catches takes</th>\n",
              "      <th>count</th>\n",
              "    </tr>\n",
              "  </thead>\n",
              "  <tbody>\n",
              "    <tr>\n",
              "      <th>0</th>\n",
              "      <td>R Parag</td>\n",
              "      <td>11</td>\n",
              "    </tr>\n",
              "    <tr>\n",
              "      <th>1</th>\n",
              "      <td>Q de Kock</td>\n",
              "      <td>10</td>\n",
              "    </tr>\n",
              "    <tr>\n",
              "      <th>2</th>\n",
              "      <td>Ishan Kishan</td>\n",
              "      <td>10</td>\n",
              "    </tr>\n",
              "    <tr>\n",
              "      <th>3</th>\n",
              "      <td>SV Samson</td>\n",
              "      <td>10</td>\n",
              "    </tr>\n",
              "    <tr>\n",
              "      <th>4</th>\n",
              "      <td>Tilak Varma</td>\n",
              "      <td>9</td>\n",
              "    </tr>\n",
              "  </tbody>\n",
              "</table>\n",
              "</div>"
            ],
            "text/plain": [
              "  No. of catches takes  count\n",
              "0              R Parag     11\n",
              "1            Q de Kock     10\n",
              "2         Ishan Kishan     10\n",
              "3            SV Samson     10\n",
              "4          Tilak Varma      9"
            ]
          },
          "execution_count": 27,
          "metadata": {},
          "output_type": "execute_result"
        }
      ],
      "source": [
        "wicket_keeper_catch=ball_df[ball_df['kind']=='caught']['fielders_involved'].value_counts().reset_index()\n",
        "wicket_keeper_catch.rename(columns={'index':'wicket_keeper','fielders_involved':'No. of catches takes'}, inplace=True)\n",
        "wicket_keeper_catch.head(5)"
      ]
    },
    {
      "cell_type": "markdown",
      "metadata": {
        "id": "UM7FzJQrRu8m"
      },
      "source": [
        "**FILDER WHO TAKES RUN OUT**"
      ]
    },
    {
      "cell_type": "code",
      "execution_count": 28,
      "metadata": {
        "colab": {
          "base_uri": "https://localhost:8080/",
          "height": 206
        },
        "id": "3eTlkk5DSLwV",
        "outputId": "bd34f2a5-d2ed-41e8-a1d7-852048ea8a17"
      },
      "outputs": [
        {
          "data": {
            "text/html": [
              "<div>\n",
              "<style scoped>\n",
              "    .dataframe tbody tr th:only-of-type {\n",
              "        vertical-align: middle;\n",
              "    }\n",
              "\n",
              "    .dataframe tbody tr th {\n",
              "        vertical-align: top;\n",
              "    }\n",
              "\n",
              "    .dataframe thead th {\n",
              "        text-align: right;\n",
              "    }\n",
              "</style>\n",
              "<table border=\"1\" class=\"dataframe\">\n",
              "  <thead>\n",
              "    <tr style=\"text-align: right;\">\n",
              "      <th></th>\n",
              "      <th>run out</th>\n",
              "      <th>count</th>\n",
              "    </tr>\n",
              "  </thead>\n",
              "  <tbody>\n",
              "    <tr>\n",
              "      <th>0</th>\n",
              "      <td>Ishan Kishan</td>\n",
              "      <td>4</td>\n",
              "    </tr>\n",
              "    <tr>\n",
              "      <th>1</th>\n",
              "      <td>SS Iyer</td>\n",
              "      <td>3</td>\n",
              "    </tr>\n",
              "    <tr>\n",
              "      <th>2</th>\n",
              "      <td>N Pooran</td>\n",
              "      <td>3</td>\n",
              "    </tr>\n",
              "    <tr>\n",
              "      <th>3</th>\n",
              "      <td>SV Samson</td>\n",
              "      <td>3</td>\n",
              "    </tr>\n",
              "    <tr>\n",
              "      <th>4</th>\n",
              "      <td>HH Pandya</td>\n",
              "      <td>2</td>\n",
              "    </tr>\n",
              "  </tbody>\n",
              "</table>\n",
              "</div>"
            ],
            "text/plain": [
              "        run out  count\n",
              "0  Ishan Kishan      4\n",
              "1       SS Iyer      3\n",
              "2      N Pooran      3\n",
              "3     SV Samson      3\n",
              "4     HH Pandya      2"
            ]
          },
          "execution_count": 28,
          "metadata": {},
          "output_type": "execute_result"
        }
      ],
      "source": [
        "wicket_keeper_runout=ball_df[ball_df['kind']=='run out']['fielders_involved'].value_counts().reset_index()\n",
        "wicket_keeper_runout.rename(columns={'index':'wicket_keeper','fielders_involved':'run out'}, inplace=True)\n",
        "wicket_keeper_runout.head(5)"
      ]
    },
    {
      "cell_type": "markdown",
      "metadata": {
        "id": "9iPmQv1QUoWG"
      },
      "source": [
        "**WORKING ON WICKETS STATS BETWEEN CATCHES AND RUN OUT**"
      ]
    },
    {
      "cell_type": "code",
      "execution_count": 35,
      "metadata": {},
      "outputs": [
        {
          "name": "stdout",
          "output_type": "stream",
          "text": [
            "Index(['No. of catches takes', 'count'], dtype='object')\n",
            "Index(['run out', 'count'], dtype='object')\n"
          ]
        }
      ],
      "source": [
        "print(wicket_keeper_catch.columns)\n",
        "print(wicket_keeper_runout.columns)\n"
      ]
    },
    {
      "cell_type": "code",
      "execution_count": 38,
      "metadata": {},
      "outputs": [
        {
          "name": "stdout",
          "output_type": "stream",
          "text": [
            "  No. of catches takes  count  wicket_keeper\n",
            "0              R Parag     11              0\n",
            "1            Q de Kock     10              1\n",
            "2         Ishan Kishan     10              2\n",
            "3            SV Samson     10              3\n",
            "4          Tilak Varma      9              4\n",
            "        run out  count\n",
            "0  Ishan Kishan      4\n",
            "1       SS Iyer      3\n",
            "2      N Pooran      3\n",
            "3     SV Samson      3\n",
            "4     HH Pandya      2\n"
          ]
        }
      ],
      "source": [
        "print(wicket_keeper_catch.head())\n",
        "print(wicket_keeper_runout.head())\n"
      ]
    },
    {
      "cell_type": "code",
      "execution_count": 49,
      "metadata": {
        "colab": {
          "base_uri": "https://localhost:8080/",
          "height": 363
        },
        "id": "Kbm3eHEKSsfg",
        "outputId": "69d095ea-64dc-4fee-a55d-88be7c274f8c"
      },
      "outputs": [
        {
          "name": "stdout",
          "output_type": "stream",
          "text": [
            "Empty DataFrame\n",
            "Columns: [No. of catches takes, count_x, wicket_keeper, count_y]\n",
            "Index: []\n"
          ]
        }
      ],
      "source": [
        "# Clean up the 'wicket_keeper' columns\n",
        "wicket_keeper_catch['wicket_keeper'] = wicket_keeper_catch['wicket_keeper'].str.strip().str.lower()\n",
        "wicket_keeper_runout['wicket_keeper'] = wicket_keeper_runout['wicket_keeper'].str.strip().str.lower()\n",
        "\n",
        "# Perform the merge\n",
        "wicket_keeper_merge = wicket_keeper_catch.merge(wicket_keeper_runout, on='wicket_keeper')\n",
        "\n",
        "# Display the top 10 rows\n",
        "wicket_keeper_mergetop10 = wicket_keeper_merge.head(10)\n",
        "print(wicket_keeper_mergetop10)\n"
      ]
    },
    {
      "cell_type": "code",
      "execution_count": 46,
      "metadata": {},
      "outputs": [
        {
          "name": "stdout",
          "output_type": "stream",
          "text": [
            "Index(['No. of catches takes', 'count_x', 'wicket_keeper', 'count_y'], dtype='object')\n"
          ]
        }
      ],
      "source": [
        "print(wicket_keeper_mergetop10.columns)\n"
      ]
    },
    {
      "cell_type": "code",
      "execution_count": 50,
      "metadata": {
        "colab": {
          "base_uri": "https://localhost:8080/",
          "height": 400
        },
        "id": "V6vd3bG6TYs1",
        "outputId": "938a01c3-604e-4437-a81a-639cf66069bc"
      },
      "outputs": [
        {
          "data": {
            "image/png": "[encoded data removed]",
            "text/plain": [
              "<Figure size 1000x500 with 1 Axes>"
            ]
          },
          "metadata": {},
          "output_type": "display_data"
        }
      ],
      "source": [
        "plt.figure(figsize=(10, 5))\n",
        "plt.bar(wicket_keeper_mergetop10['wicket_keeper'], wicket_keeper_mergetop10['No. of catches takes'], label='catches', width=0.3)\n",
        "plt.bar(wicket_keeper_mergetop10['wicket_keeper'], wicket_keeper_mergetop10['count_y'], label='run out', width=0.3)\n",
        "plt.xticks(rotation=60)\n",
        "plt.title('Wicket Keeper Stats')\n",
        "plt.xlabel('Wicket Keepers')\n",
        "plt.ylabel('Wicket_Count')\n",
        "plt.legend(loc='upper right')\n",
        "plt.show()\n"
      ]
    },
    {
      "cell_type": "markdown",
      "metadata": {
        "id": "dwrg-3x0dKRO"
      },
      "source": [
        "**NO. OF TOSS WON BY EACH TEAM**"
      ]
    },
    {
      "cell_type": "code",
      "execution_count": 42,
      "metadata": {
        "id": "BYZYbFyEaUfi"
      },
      "outputs": [],
      "source": [
        "toss_won_count=pd.DataFrame({\"Toss Won\":matches_df['TossWinner']}).value_counts()\n",
        "labels=[x[0]for x in toss_won_count.keys()]"
      ]
    },
    {
      "cell_type": "markdown",
      "metadata": {
        "id": "q8bzgjxzrm5O"
      },
      "source": [
        "**STATS**"
      ]
    },
    {
      "cell_type": "code",
      "execution_count": 51,
      "metadata": {
        "colab": {
          "base_uri": "https://localhost:8080/",
          "height": 527
        },
        "id": "7sFSjIP3ddUz",
        "outputId": "bd8d1daf-12a9-46c2-f274-f3e498e342ed"
      },
      "outputs": [
        {
          "data": {
            "image/png": "[encoded data removed]",
            "text/plain": [
              "<Figure size 640x480 with 1 Axes>"
            ]
          },
          "metadata": {},
          "output_type": "display_data"
        }
      ],
      "source": [
        "plt.pie(toss_won_count,labels=labels,startangle=0,explode=[0.3,0,0,0,0,0,0,0,0,0],shadow=True,autopct=\"%2.1f%%\",radius=2)\n",
        "plt.legend(bbox_to_anchor=(1,0), loc=\"best\",bbox_transform=plt.gcf().transFigure)\n",
        "plt.show()"
      ]
    },
    {
      "cell_type": "markdown",
      "metadata": {
        "id": "LfZhP32rr8Pr"
      },
      "source": [
        "**TEAM THAT WIN BY HIGHEST RUN MARGIN/RUN CHASE IN OVER ALL IPL**"
      ]
    },
    {
      "cell_type": "code",
      "execution_count": 44,
      "metadata": {
        "colab": {
          "base_uri": "https://localhost:8080/"
        },
        "id": "aKTH8AuFrur7",
        "outputId": "e9469857-39a5-42d4-b910-be30b05e114e"
      },
      "outputs": [
        {
          "data": {
            "text/plain": [
              "array(['Wickets', 'Runs'], dtype=object)"
            ]
          },
          "execution_count": 44,
          "metadata": {},
          "output_type": "execute_result"
        }
      ],
      "source": [
        "matches_df.WonBy.unique()"
      ]
    },
    {
      "cell_type": "code",
      "execution_count": 45,
      "metadata": {
        "colab": {
          "base_uri": "https://localhost:8080/"
        },
        "id": "QpUzXowbsVLn",
        "outputId": "673bcb71-937d-43ba-917e-5f9d7c6854e4"
      },
      "outputs": [
        {
          "name": "stderr",
          "output_type": "stream",
          "text": [
            "C:\\Users\\hp\\AppData\\Local\\Temp\\ipykernel_8544\\2953388361.py:1: DeprecationWarning: DataFrameGroupBy.apply operated on the grouping columns. This behavior is deprecated, and in a future version of pandas the grouping columns will be excluded from the operation. Either pass `include_groups=False` to exclude the groupings or explicitly select the grouping columns after groupby to silence this warning.\n",
            "  margin=matches_df.groupby(['ID','WinningTeam']).apply(lambda x: x[x[\"WonBy\"]=='Runs']['Margin'].sum())\n"
          ]
        },
        {
          "data": {
            "text/plain": [
              "ID       WinningTeam                \n",
              "1304101  Chennai Super Kings            91\n",
              "1304099  Lucknow Super Giants           75\n",
              "1304100  Royal Challengers Bangalore    67\n",
              "1304103  Gujarat Titans                 62\n",
              "1304051  Rajasthan Royals               61\n",
              "dtype: int64"
            ]
          },
          "execution_count": 45,
          "metadata": {},
          "output_type": "execute_result"
        }
      ],
      "source": [
        "margin=matches_df.groupby(['ID','WinningTeam']).apply(lambda x: x[x[\"WonBy\"]=='Runs']['Margin'].sum())\n",
        "margin.sort_values(ascending=False).head(5)"
      ]
    },
    {
      "cell_type": "markdown",
      "metadata": {
        "id": "RSDW3hPrwLYN"
      },
      "source": [
        "**HIGHEST RUN SCORER IN POWER PLAY AND DEATH OVERS**"
      ]
    },
    {
      "cell_type": "markdown",
      "metadata": {
        "id": "-Vu1sC4XwkxH"
      },
      "source": [
        "**POWER PLAY OVERS**"
      ]
    },
    {
      "cell_type": "code",
      "execution_count": 36,
      "metadata": {
        "colab": {
          "base_uri": "https://localhost:8080/"
        },
        "id": "GDcPzmrGvLKZ",
        "outputId": "74d5522f-498b-49fa-c988-963693665c60"
      },
      "outputs": [
        {
          "name": "stderr",
          "output_type": "stream",
          "text": [
            "C:\\Users\\hp\\AppData\\Local\\Temp\\ipykernel_8188\\355522915.py:1: DeprecationWarning: DataFrameGroupBy.apply operated on the grouping columns. This behavior is deprecated, and in a future version of pandas the grouping columns will be excluded from the operation. Either pass `include_groups=False` to exclude the groupings or explicitly select the grouping columns after groupby to silence this warning.\n",
            "  ball_df.groupby('batter').apply(lambda x: x[x[\"overs\"].isin([1,2,3,4,5,6])]['total_run'].sum()).nlargest(1)\n"
          ]
        },
        {
          "data": {
            "text/plain": [
              "batter\n",
              "JC Buttler    295\n",
              "dtype: int64"
            ]
          },
          "execution_count": 36,
          "metadata": {},
          "output_type": "execute_result"
        }
      ],
      "source": [
        "ball_df.groupby('batter').apply(lambda x: x[x[\"overs\"].isin([1,2,3,4,5,6])]['total_run'].sum()).nlargest(1)"
      ]
    },
    {
      "cell_type": "markdown",
      "metadata": {
        "id": "mRvBRJKTwqWF"
      },
      "source": [
        "**DEATH OVERS**"
      ]
    },
    {
      "cell_type": "code",
      "execution_count": 37,
      "metadata": {
        "colab": {
          "base_uri": "https://localhost:8080/"
        },
        "id": "8m8f2ml1wuDA",
        "outputId": "bbacb956-07fb-48e5-8de3-ec6ab1f71e0d"
      },
      "outputs": [
        {
          "name": "stderr",
          "output_type": "stream",
          "text": [
            "C:\\Users\\hp\\AppData\\Local\\Temp\\ipykernel_8188\\1724565716.py:1: DeprecationWarning: DataFrameGroupBy.apply operated on the grouping columns. This behavior is deprecated, and in a future version of pandas the grouping columns will be excluded from the operation. Either pass `include_groups=False` to exclude the groupings or explicitly select the grouping columns after groupby to silence this warning.\n",
            "  ball_df.groupby('batter').apply(lambda x: x[x[\"overs\"].isin([16,17,18,19,20])]['total_run'].sum()).nlargest(1)\n"
          ]
        },
        {
          "data": {
            "text/plain": [
              "batter\n",
              "SO Hetmyer    227\n",
              "dtype: int64"
            ]
          },
          "execution_count": 37,
          "metadata": {},
          "output_type": "execute_result"
        }
      ],
      "source": [
        "ball_df.groupby('batter').apply(lambda x: x[x[\"overs\"].isin([16,17,18,19,20])]['total_run'].sum()).nlargest(1)"
      ]
    },
    {
      "cell_type": "markdown",
      "metadata": {
        "id": "-gp0dcJbK8IN"
      },
      "source": [
        "**MOST RUN SCORER PLAYER IN LAST 2 OVER**"
      ]
    },
    {
      "cell_type": "code",
      "execution_count": 38,
      "metadata": {
        "colab": {
          "base_uri": "https://localhost:8080/"
        },
        "id": "_WGBQTxsK4C-",
        "outputId": "8bd4fda3-08a0-4aab-bfa9-b4028edfc77e"
      },
      "outputs": [
        {
          "name": "stderr",
          "output_type": "stream",
          "text": [
            "C:\\Users\\hp\\AppData\\Local\\Temp\\ipykernel_8188\\1030475664.py:1: DeprecationWarning: DataFrameGroupBy.apply operated on the grouping columns. This behavior is deprecated, and in a future version of pandas the grouping columns will be excluded from the operation. Either pass `include_groups=False` to exclude the groupings or explicitly select the grouping columns after groupby to silence this warning.\n",
            "  ball_df.groupby('batter').apply(lambda x: x[x[\"overs\"].isin([19,20])]['total_run'].sum()).nlargest(1)\n"
          ]
        },
        {
          "data": {
            "text/plain": [
              "batter\n",
              "KD Karthik    72\n",
              "dtype: int64"
            ]
          },
          "execution_count": 38,
          "metadata": {},
          "output_type": "execute_result"
        }
      ],
      "source": [
        "ball_df.groupby('batter').apply(lambda x: x[x[\"overs\"].isin([19,20])]['total_run'].sum()).nlargest(1)"
      ]
    },
    {
      "cell_type": "markdown",
      "metadata": {
        "id": "CKOMg7Kqw9Q_"
      },
      "source": [
        "**MOST RUNS SCORED IN 19TH AND 20TH OVER**"
      ]
    },
    {
      "cell_type": "code",
      "execution_count": 39,
      "metadata": {
        "colab": {
          "base_uri": "https://localhost:8080/"
        },
        "id": "QR4bEKXGw37-",
        "outputId": "62697db3-84cf-4728-b876-7b9ca1c66aaa"
      },
      "outputs": [
        {
          "name": "stderr",
          "output_type": "stream",
          "text": [
            "C:\\Users\\hp\\AppData\\Local\\Temp\\ipykernel_8188\\566415704.py:1: DeprecationWarning: DataFrameGroupBy.apply operated on the grouping columns. This behavior is deprecated, and in a future version of pandas the grouping columns will be excluded from the operation. Either pass `include_groups=False` to exclude the groupings or explicitly select the grouping columns after groupby to silence this warning.\n",
            "  ball_df.groupby('BattingTeam').apply(lambda x: x[x[\"overs\"].isin([19,20])]['total_run'].sum()).nlargest(1)\n"
          ]
        },
        {
          "data": {
            "text/plain": [
              "BattingTeam\n",
              "Chennai Super Kings    146\n",
              "dtype: int64"
            ]
          },
          "execution_count": 39,
          "metadata": {},
          "output_type": "execute_result"
        }
      ],
      "source": [
        "ball_df.groupby('BattingTeam').apply(lambda x: x[x[\"overs\"].isin([19,20])]['total_run'].sum()).nlargest(1)"
      ]
    },
    {
      "cell_type": "markdown",
      "metadata": {
        "id": "IkuJhAM9xTRE"
      },
      "source": [
        "**MATCH WINNER TEAMS AFTER WINNING TOSS**"
      ]
    },
    {
      "cell_type": "code",
      "execution_count": 40,
      "metadata": {
        "colab": {
          "base_uri": "https://localhost:8080/"
        },
        "id": "PcnOU7RoxFyp",
        "outputId": "9d84d23f-3cc6-4366-ed96-95dd4537279e"
      },
      "outputs": [
        {
          "data": {
            "text/plain": [
              "['Mumbai Indians',\n",
              " 'Delhi Capitals',\n",
              " 'Gujarat Titans',\n",
              " 'Royal Challengers Bangalore',\n",
              " 'Kolkata Knight Riders',\n",
              " 'Lucknow Super Giants',\n",
              " 'Sunrisers Hyderabad',\n",
              " 'Chennai Super Kings',\n",
              " 'Punjab Kings']"
            ]
          },
          "execution_count": 40,
          "metadata": {},
          "output_type": "execute_result"
        }
      ],
      "source": [
        "list(matches_df['WinningTeam'][matches_df.apply(lambda x:x['TossWinner']==x['WinningTeam'],axis=1)].unique())"
      ]
    },
    {
      "cell_type": "markdown",
      "metadata": {
        "id": "7A19FD7fxlmy"
      },
      "source": [
        "**IS THERE ANY ADVANTAGES IN WINNING MATCH AFTER WINNING TOSS** "
      ]
    },
    {
      "cell_type": "code",
      "execution_count": 23,
      "metadata": {
        "colab": {
          "base_uri": "https://localhost:8080/",
          "height": 320
        },
        "id": "zX0zyoGTxWOT",
        "outputId": "23210d16-4642-4574-cb16-fea1fda9476a"
      },
      "outputs": [
        {
          "data": {
            "image/png": "[encoded data removed]",
            "text/plain": [
              "<Figure size 600x400 with 1 Axes>"
            ]
          },
          "metadata": {},
          "output_type": "display_data"
        }
      ],
      "source": [
        "# Create the boolean series\n",
        "a = matches_df['TossWinner'] == matches_df['WinningTeam']\n",
        "\n",
        "# Convert to categorical data for better plotting\n",
        "a = a.astype('category')\n",
        "plt.figure(figsize=(6,4))\n",
        "sns.countplot(a,saturation=0.20)\n",
        "plt.show()"
      ]
    },
    {
      "cell_type": "markdown",
      "metadata": {
        "id": "tZlJOYU1yCW6"
      },
      "source": [
        "**THE MOST SUCCESFULL IPL TEAMS**"
      ]
    },
    {
      "cell_type": "code",
      "execution_count": 42,
      "metadata": {
        "id": "BRrZwI3axj8u"
      },
      "outputs": [],
      "source": [
        "winning_teams=matches_df['WinningTeam'].value_counts().rename_axis(\"Team\").reset_index(name='winning_count').head(10)"
      ]
    },
    {
      "cell_type": "markdown",
      "metadata": {
        "id": "TPRpO3y0yqoP"
      },
      "source": [
        "**STATS**"
      ]
    },
    {
      "cell_type": "code",
      "execution_count": 43,
      "metadata": {
        "colab": {
          "base_uri": "https://localhost:8080/",
          "height": 296
        },
        "id": "JiOHD7UQyJEt",
        "outputId": "40922480-1bb3-4628-889f-241be2a7667b"
      },
      "outputs": [
        {
          "data": {
            "image/png": "[encoded data removed]",
            "text/plain": [
              "<Figure size 640x480 with 1 Axes>"
            ]
          },
          "metadata": {},
          "output_type": "display_data"
        }
      ],
      "source": [
        "plt.title(\"WINNING STATS OF TEAMS\")\n",
        "sns.barplot(x='winning_count', y='Team', data=winning_teams);"
      ]
    },
    {
      "cell_type": "markdown",
      "metadata": {
        "id": "MxIabZ7EzMI4"
      },
      "source": [
        "**MOST SIXES AND MOST FOURS BY INDIVIDUAL AND TEAMS**"
      ]
    },
    {
      "cell_type": "markdown",
      "metadata": {
        "id": "DxhwjHMrzUaw"
      },
      "source": [
        "**SIXES INDIVIDUALLY**"
      ]
    },
    {
      "cell_type": "code",
      "execution_count": 44,
      "metadata": {
        "colab": {
          "base_uri": "https://localhost:8080/"
        },
        "id": "UhIRKehYyb81",
        "outputId": "209af565-d49d-4620-a656-584f59d90421"
      },
      "outputs": [
        {
          "name": "stderr",
          "output_type": "stream",
          "text": [
            "C:\\Users\\hp\\AppData\\Local\\Temp\\ipykernel_8188\\902668002.py:1: DeprecationWarning: DataFrameGroupBy.apply operated on the grouping columns. This behavior is deprecated, and in a future version of pandas the grouping columns will be excluded from the operation. Either pass `include_groups=False` to exclude the groupings or explicitly select the grouping columns after groupby to silence this warning.\n",
            "  sixes=ball_df.groupby('batter').apply(lambda x: x[x[\"batsman_run\"]==6]['batsman_run'].sum()).nlargest(1)\n"
          ]
        },
        {
          "data": {
            "text/plain": [
              "batter\n",
              "JC Buttler    222\n",
              "dtype: int64"
            ]
          },
          "execution_count": 44,
          "metadata": {},
          "output_type": "execute_result"
        }
      ],
      "source": [
        "sixes=ball_df.groupby('batter').apply(lambda x: x[x[\"batsman_run\"]==6]['batsman_run'].sum()).nlargest(1)\n",
        "sixes"
      ]
    },
    {
      "cell_type": "markdown",
      "metadata": {
        "id": "3eB2N9agza-A"
      },
      "source": [
        "**FOURS INDIVIDUALLY**"
      ]
    },
    {
      "cell_type": "code",
      "execution_count": 45,
      "metadata": {
        "colab": {
          "base_uri": "https://localhost:8080/"
        },
        "id": "3dZ_zpM5zdSJ",
        "outputId": "1e4e52d0-fded-452b-b91b-f549aad4a9f8"
      },
      "outputs": [
        {
          "name": "stderr",
          "output_type": "stream",
          "text": [
            "C:\\Users\\hp\\AppData\\Local\\Temp\\ipykernel_8188\\2057021011.py:1: DeprecationWarning: DataFrameGroupBy.apply operated on the grouping columns. This behavior is deprecated, and in a future version of pandas the grouping columns will be excluded from the operation. Either pass `include_groups=False` to exclude the groupings or explicitly select the grouping columns after groupby to silence this warning.\n",
            "  fours=ball_df.groupby('batter').apply(lambda x: x[x[\"batsman_run\"]==4]['batsman_run'].sum()).nlargest(1)\n"
          ]
        },
        {
          "data": {
            "text/plain": [
              "batter\n",
              "JC Buttler    228\n",
              "dtype: int64"
            ]
          },
          "execution_count": 45,
          "metadata": {},
          "output_type": "execute_result"
        }
      ],
      "source": [
        "fours=ball_df.groupby('batter').apply(lambda x: x[x[\"batsman_run\"]==4]['batsman_run'].sum()).nlargest(1)\n",
        "fours"
      ]
    },
    {
      "cell_type": "markdown",
      "metadata": {
        "id": "rGgAGywF123d"
      },
      "source": [
        "**SIXES BY TEAMS**"
      ]
    },
    {
      "cell_type": "code",
      "execution_count": 46,
      "metadata": {
        "colab": {
          "base_uri": "https://localhost:8080/"
        },
        "id": "PXsYuxlt1W3l",
        "outputId": "6be4a109-39ab-4131-9638-cae558dc280d"
      },
      "outputs": [
        {
          "name": "stderr",
          "output_type": "stream",
          "text": [
            "C:\\Users\\hp\\AppData\\Local\\Temp\\ipykernel_8188\\3236662262.py:1: DeprecationWarning: DataFrameGroupBy.apply operated on the grouping columns. This behavior is deprecated, and in a future version of pandas the grouping columns will be excluded from the operation. Either pass `include_groups=False` to exclude the groupings or explicitly select the grouping columns after groupby to silence this warning.\n",
            "  ball_df.groupby('BattingTeam').apply(lambda x: x[x[\"batsman_run\"]==6]['batsman_run'].sum()).nlargest(1)\n"
          ]
        },
        {
          "data": {
            "text/plain": [
              "BattingTeam\n",
              "Rajasthan Royals    648\n",
              "dtype: int64"
            ]
          },
          "execution_count": 46,
          "metadata": {},
          "output_type": "execute_result"
        }
      ],
      "source": [
        "ball_df.groupby('BattingTeam').apply(lambda x: x[x[\"batsman_run\"]==6]['batsman_run'].sum()).nlargest(1)"
      ]
    },
    {
      "cell_type": "markdown",
      "metadata": {
        "id": "8qo_NEj211km"
      },
      "source": [
        "**FOURS BY TEAMS**"
      ]
    },
    {
      "cell_type": "code",
      "execution_count": 55,
      "metadata": {
        "colab": {
          "base_uri": "https://localhost:8080/"
        },
        "id": "66o_JA6N12I6",
        "outputId": "9dccd8a2-9226-463e-f574-d3d530a5b7d8"
      },
      "outputs": [
        {
          "name": "stderr",
          "output_type": "stream",
          "text": [
            "C:\\Users\\hp\\AppData\\Local\\Temp\\ipykernel_8544\\2509677393.py:1: DeprecationWarning: DataFrameGroupBy.apply operated on the grouping columns. This behavior is deprecated, and in a future version of pandas the grouping columns will be excluded from the operation. Either pass `include_groups=False` to exclude the groupings or explicitly select the grouping columns after groupby to silence this warning.\n",
            "  ball_df.groupby('BattingTeam').apply(lambda x: x[x[\"batsman_run\"]==4]['batsman_run'].sum()).nlargest(1)\n"
          ]
        },
        {
          "data": {
            "text/plain": [
              "BattingTeam\n",
              "Gujarat Titans    780\n",
              "dtype: int64"
            ]
          },
          "execution_count": 55,
          "metadata": {},
          "output_type": "execute_result"
        }
      ],
      "source": [
        "ball_df.groupby('BattingTeam').apply(lambda x: x[x[\"batsman_run\"]==4]['batsman_run'].sum()).nlargest(1)"
      ]
    },
    {
      "cell_type": "markdown",
      "metadata": {
        "id": "sOgJ2XM-2LtK"
      },
      "source": [
        "**MOST 50+ 100+ PARTNERSHIPS BY DUO**"
      ]
    },
    {
      "cell_type": "markdown",
      "metadata": {
        "id": "vsT3ixwv2V0F"
      },
      "source": [
        "**50+ DUO**"
      ]
    },
    {
      "cell_type": "code",
      "execution_count": 56,
      "metadata": {
        "colab": {
          "base_uri": "https://localhost:8080/",
          "height": 332
        },
        "id": "HiUDlKa22GGQ",
        "outputId": "6f9c2759-66dc-4999-cb2a-5fcdfe04033e"
      },
      "outputs": [
        {
          "data": {
            "text/html": [
              "<div>\n",
              "<style scoped>\n",
              "    .dataframe tbody tr th:only-of-type {\n",
              "        vertical-align: middle;\n",
              "    }\n",
              "\n",
              "    .dataframe tbody tr th {\n",
              "        vertical-align: top;\n",
              "    }\n",
              "\n",
              "    .dataframe thead th {\n",
              "        text-align: right;\n",
              "    }\n",
              "</style>\n",
              "<table border=\"1\" class=\"dataframe\">\n",
              "  <thead>\n",
              "    <tr style=\"text-align: right;\">\n",
              "      <th></th>\n",
              "      <th>ID</th>\n",
              "      <th>batter</th>\n",
              "      <th>non-striker</th>\n",
              "      <th>total_run</th>\n",
              "    </tr>\n",
              "  </thead>\n",
              "  <tbody>\n",
              "    <tr>\n",
              "      <th>1176</th>\n",
              "      <td>1304092</td>\n",
              "      <td>RD Gaikwad</td>\n",
              "      <td>DP Conway</td>\n",
              "      <td>101</td>\n",
              "    </tr>\n",
              "    <tr>\n",
              "      <th>850</th>\n",
              "      <td>1304080</td>\n",
              "      <td>JC Buttler</td>\n",
              "      <td>D Padikkal</td>\n",
              "      <td>100</td>\n",
              "    </tr>\n",
              "    <tr>\n",
              "      <th>1478</th>\n",
              "      <td>1304104</td>\n",
              "      <td>MR Marsh</td>\n",
              "      <td>DA Warner</td>\n",
              "      <td>92</td>\n",
              "    </tr>\n",
              "    <tr>\n",
              "      <th>550</th>\n",
              "      <td>1304068</td>\n",
              "      <td>S Dube</td>\n",
              "      <td>RV Uthappa</td>\n",
              "      <td>87</td>\n",
              "    </tr>\n",
              "    <tr>\n",
              "      <th>1166</th>\n",
              "      <td>1304092</td>\n",
              "      <td>DP Conway</td>\n",
              "      <td>RD Gaikwad</td>\n",
              "      <td>81</td>\n",
              "    </tr>\n",
              "    <tr>\n",
              "      <th>548</th>\n",
              "      <td>1304068</td>\n",
              "      <td>RV Uthappa</td>\n",
              "      <td>S Dube</td>\n",
              "      <td>78</td>\n",
              "    </tr>\n",
              "    <tr>\n",
              "      <th>46</th>\n",
              "      <td>1304049</td>\n",
              "      <td>F du Plessis</td>\n",
              "      <td>V Kohli</td>\n",
              "      <td>78</td>\n",
              "    </tr>\n",
              "    <tr>\n",
              "      <th>170</th>\n",
              "      <td>1304054</td>\n",
              "      <td>AD Russell</td>\n",
              "      <td>SW Billings</td>\n",
              "      <td>74</td>\n",
              "    </tr>\n",
              "    <tr>\n",
              "      <th>744</th>\n",
              "      <td>1304076</td>\n",
              "      <td>JC Buttler</td>\n",
              "      <td>D Padikkal</td>\n",
              "      <td>71</td>\n",
              "    </tr>\n",
              "    <tr>\n",
              "      <th>1268</th>\n",
              "      <td>1304096</td>\n",
              "      <td>R Powell</td>\n",
              "      <td>DA Warner</td>\n",
              "      <td>69</td>\n",
              "    </tr>\n",
              "    <tr>\n",
              "      <th>674</th>\n",
              "      <td>1304073</td>\n",
              "      <td>KD Karthik</td>\n",
              "      <td>Shahbaz Ahmed</td>\n",
              "      <td>66</td>\n",
              "    </tr>\n",
              "    <tr>\n",
              "      <th>1384</th>\n",
              "      <td>1304101</td>\n",
              "      <td>DP Conway</td>\n",
              "      <td>RD Gaikwad</td>\n",
              "      <td>65</td>\n",
              "    </tr>\n",
              "    <tr>\n",
              "      <th>972</th>\n",
              "      <td>1304084</td>\n",
              "      <td>S Dhawan</td>\n",
              "      <td>PBB Rajapaksa</td>\n",
              "      <td>65</td>\n",
              "    </tr>\n",
              "    <tr>\n",
              "      <th>403</th>\n",
              "      <td>1304062</td>\n",
              "      <td>Shubman Gill</td>\n",
              "      <td>B Sai Sudharsan</td>\n",
              "      <td>64</td>\n",
              "    </tr>\n",
              "    <tr>\n",
              "      <th>741</th>\n",
              "      <td>1304076</td>\n",
              "      <td>AJ Finch</td>\n",
              "      <td>SS Iyer</td>\n",
              "      <td>64</td>\n",
              "    </tr>\n",
              "    <tr>\n",
              "      <th>371</th>\n",
              "      <td>1304061</td>\n",
              "      <td>PP Shaw</td>\n",
              "      <td>DA Warner</td>\n",
              "      <td>63</td>\n",
              "    </tr>\n",
              "    <tr>\n",
              "      <th>628</th>\n",
              "      <td>1304071</td>\n",
              "      <td>RA Tripathi</td>\n",
              "      <td>AK Markram</td>\n",
              "      <td>59</td>\n",
              "    </tr>\n",
              "    <tr>\n",
              "      <th>442</th>\n",
              "      <td>1304064</td>\n",
              "      <td>SA Yadav</td>\n",
              "      <td>JD Unadkat</td>\n",
              "      <td>59</td>\n",
              "    </tr>\n",
              "    <tr>\n",
              "      <th>270</th>\n",
              "      <td>1304057</td>\n",
              "      <td>LS Livingstone</td>\n",
              "      <td>S Dhawan</td>\n",
              "      <td>58</td>\n",
              "    </tr>\n",
              "    <tr>\n",
              "      <th>408</th>\n",
              "      <td>1304063</td>\n",
              "      <td>Abhishek Sharma</td>\n",
              "      <td>KS Williamson</td>\n",
              "      <td>57</td>\n",
              "    </tr>\n",
              "    <tr>\n",
              "      <th>350</th>\n",
              "      <td>1304060</td>\n",
              "      <td>PJ Cummins</td>\n",
              "      <td>VR Iyer</td>\n",
              "      <td>57</td>\n",
              "    </tr>\n",
              "    <tr>\n",
              "      <th>465</th>\n",
              "      <td>1304065</td>\n",
              "      <td>PP Shaw</td>\n",
              "      <td>DA Warner</td>\n",
              "      <td>56</td>\n",
              "    </tr>\n",
              "    <tr>\n",
              "      <th>161</th>\n",
              "      <td>1304053</td>\n",
              "      <td>Q de Kock</td>\n",
              "      <td>KL Rahul</td>\n",
              "      <td>55</td>\n",
              "    </tr>\n",
              "    <tr>\n",
              "      <th>1360</th>\n",
              "      <td>1304100</td>\n",
              "      <td>F du Plessis</td>\n",
              "      <td>RM Patidar</td>\n",
              "      <td>55</td>\n",
              "    </tr>\n",
              "    <tr>\n",
              "      <th>848</th>\n",
              "      <td>1304080</td>\n",
              "      <td>D Padikkal</td>\n",
              "      <td>JC Buttler</td>\n",
              "      <td>55</td>\n",
              "    </tr>\n",
              "    <tr>\n",
              "      <th>1301</th>\n",
              "      <td>1304097</td>\n",
              "      <td>WP Saha</td>\n",
              "      <td>Shubman Gill</td>\n",
              "      <td>54</td>\n",
              "    </tr>\n",
              "    <tr>\n",
              "      <th>1011</th>\n",
              "      <td>1304086</td>\n",
              "      <td>Abhishek Sharma</td>\n",
              "      <td>AK Markram</td>\n",
              "      <td>54</td>\n",
              "    </tr>\n",
              "    <tr>\n",
              "      <th>1143</th>\n",
              "      <td>1304091</td>\n",
              "      <td>DJ Hooda</td>\n",
              "      <td>KL Rahul</td>\n",
              "      <td>54</td>\n",
              "    </tr>\n",
              "    <tr>\n",
              "      <th>571</th>\n",
              "      <td>1304069</td>\n",
              "      <td>MA Agarwal</td>\n",
              "      <td>S Dhawan</td>\n",
              "      <td>54</td>\n",
              "    </tr>\n",
              "    <tr>\n",
              "      <th>1257</th>\n",
              "      <td>1304096</td>\n",
              "      <td>DA Warner</td>\n",
              "      <td>R Powell</td>\n",
              "      <td>53</td>\n",
              "    </tr>\n",
              "    <tr>\n",
              "      <th>1105</th>\n",
              "      <td>1304089</td>\n",
              "      <td>RM Patidar</td>\n",
              "      <td>V Kohli</td>\n",
              "      <td>53</td>\n",
              "    </tr>\n",
              "    <tr>\n",
              "      <th>205</th>\n",
              "      <td>1304055</td>\n",
              "      <td>JC Buttler</td>\n",
              "      <td>SV Samson</td>\n",
              "      <td>52</td>\n",
              "    </tr>\n",
              "    <tr>\n",
              "      <th>1293</th>\n",
              "      <td>1304097</td>\n",
              "      <td>Shubman Gill</td>\n",
              "      <td>WP Saha</td>\n",
              "      <td>52</td>\n",
              "    </tr>\n",
              "    <tr>\n",
              "      <th>1472</th>\n",
              "      <td>1304104</td>\n",
              "      <td>DA Warner</td>\n",
              "      <td>MR Marsh</td>\n",
              "      <td>52</td>\n",
              "    </tr>\n",
              "    <tr>\n",
              "      <th>66</th>\n",
              "      <td>1304050</td>\n",
              "      <td>DJ Hooda</td>\n",
              "      <td>A Badoni</td>\n",
              "      <td>51</td>\n",
              "    </tr>\n",
              "    <tr>\n",
              "      <th>299</th>\n",
              "      <td>1304058</td>\n",
              "      <td>DJ Hooda</td>\n",
              "      <td>KL Rahul</td>\n",
              "      <td>51</td>\n",
              "    </tr>\n",
              "    <tr>\n",
              "      <th>6</th>\n",
              "      <td>1304047</td>\n",
              "      <td>MS Dhoni</td>\n",
              "      <td>RA Jadeja</td>\n",
              "      <td>51</td>\n",
              "    </tr>\n",
              "  </tbody>\n",
              "</table>\n",
              "</div>"
            ],
            "text/plain": [
              "           ID           batter      non-striker  total_run\n",
              "1176  1304092       RD Gaikwad        DP Conway        101\n",
              "850   1304080       JC Buttler       D Padikkal        100\n",
              "1478  1304104         MR Marsh        DA Warner         92\n",
              "550   1304068           S Dube       RV Uthappa         87\n",
              "1166  1304092        DP Conway       RD Gaikwad         81\n",
              "548   1304068       RV Uthappa           S Dube         78\n",
              "46    1304049     F du Plessis          V Kohli         78\n",
              "170   1304054       AD Russell      SW Billings         74\n",
              "744   1304076       JC Buttler       D Padikkal         71\n",
              "1268  1304096         R Powell        DA Warner         69\n",
              "674   1304073       KD Karthik    Shahbaz Ahmed         66\n",
              "1384  1304101        DP Conway       RD Gaikwad         65\n",
              "972   1304084         S Dhawan    PBB Rajapaksa         65\n",
              "403   1304062     Shubman Gill  B Sai Sudharsan         64\n",
              "741   1304076         AJ Finch          SS Iyer         64\n",
              "371   1304061          PP Shaw        DA Warner         63\n",
              "628   1304071      RA Tripathi       AK Markram         59\n",
              "442   1304064         SA Yadav       JD Unadkat         59\n",
              "270   1304057   LS Livingstone         S Dhawan         58\n",
              "408   1304063  Abhishek Sharma    KS Williamson         57\n",
              "350   1304060       PJ Cummins          VR Iyer         57\n",
              "465   1304065          PP Shaw        DA Warner         56\n",
              "161   1304053        Q de Kock         KL Rahul         55\n",
              "1360  1304100     F du Plessis       RM Patidar         55\n",
              "848   1304080       D Padikkal       JC Buttler         55\n",
              "1301  1304097          WP Saha     Shubman Gill         54\n",
              "1011  1304086  Abhishek Sharma       AK Markram         54\n",
              "1143  1304091         DJ Hooda         KL Rahul         54\n",
              "571   1304069       MA Agarwal         S Dhawan         54\n",
              "1257  1304096        DA Warner         R Powell         53\n",
              "1105  1304089       RM Patidar          V Kohli         53\n",
              "205   1304055       JC Buttler        SV Samson         52\n",
              "1293  1304097     Shubman Gill          WP Saha         52\n",
              "1472  1304104        DA Warner         MR Marsh         52\n",
              "66    1304050         DJ Hooda         A Badoni         51\n",
              "299   1304058         DJ Hooda         KL Rahul         51\n",
              "6     1304047         MS Dhoni        RA Jadeja         51"
            ]
          },
          "execution_count": 56,
          "metadata": {},
          "output_type": "execute_result"
        }
      ],
      "source": [
        "duo=ball_df.groupby(['ID','batter','non-striker'])['total_run'].sum().reset_index()\n",
        "duo_50=duo[duo['total_run']>50 ].sort_values(by=['total_run'],ascending=False)\n",
        "duo_50"
      ]
    },
    {
      "cell_type": "markdown",
      "metadata": {
        "id": "BGJCEwoD2Yox"
      },
      "source": [
        "**100+ DUO**"
      ]
    },
    {
      "cell_type": "code",
      "execution_count": 57,
      "metadata": {
        "colab": {
          "base_uri": "https://localhost:8080/",
          "height": 112
        },
        "id": "B6i0VVjH2UX3",
        "outputId": "714036cb-443a-4ea2-8799-64097e89d3ed"
      },
      "outputs": [
        {
          "data": {
            "text/html": [
              "<div>\n",
              "<style scoped>\n",
              "    .dataframe tbody tr th:only-of-type {\n",
              "        vertical-align: middle;\n",
              "    }\n",
              "\n",
              "    .dataframe tbody tr th {\n",
              "        vertical-align: top;\n",
              "    }\n",
              "\n",
              "    .dataframe thead th {\n",
              "        text-align: right;\n",
              "    }\n",
              "</style>\n",
              "<table border=\"1\" class=\"dataframe\">\n",
              "  <thead>\n",
              "    <tr style=\"text-align: right;\">\n",
              "      <th></th>\n",
              "      <th>ID</th>\n",
              "      <th>batter</th>\n",
              "      <th>non-striker</th>\n",
              "      <th>total_run</th>\n",
              "    </tr>\n",
              "  </thead>\n",
              "  <tbody>\n",
              "    <tr>\n",
              "      <th>850</th>\n",
              "      <td>1304080</td>\n",
              "      <td>JC Buttler</td>\n",
              "      <td>D Padikkal</td>\n",
              "      <td>100</td>\n",
              "    </tr>\n",
              "    <tr>\n",
              "      <th>1176</th>\n",
              "      <td>1304092</td>\n",
              "      <td>RD Gaikwad</td>\n",
              "      <td>DP Conway</td>\n",
              "      <td>101</td>\n",
              "    </tr>\n",
              "  </tbody>\n",
              "</table>\n",
              "</div>"
            ],
            "text/plain": [
              "           ID      batter non-striker  total_run\n",
              "850   1304080  JC Buttler  D Padikkal        100\n",
              "1176  1304092  RD Gaikwad   DP Conway        101"
            ]
          },
          "execution_count": 57,
          "metadata": {},
          "output_type": "execute_result"
        }
      ],
      "source": [
        "duo_100=duo[duo['total_run']>=100]\n",
        "duo_100"
      ]
    },
    {
      "cell_type": "markdown",
      "metadata": {
        "id": "HK-Jh0vt716K"
      },
      "source": [
        "##**SOME OTHER ANALYSIS**"
      ]
    },
    {
      "cell_type": "markdown",
      "metadata": {
        "id": "r3rNG90v78bR"
      },
      "source": [
        "**MOST LIKELY DESICION AFTER WINNING TOSS**"
      ]
    },
    {
      "cell_type": "code",
      "execution_count": 58,
      "metadata": {
        "colab": {
          "base_uri": "https://localhost:8080/"
        },
        "id": "OhbQAkqn2bEb",
        "outputId": "03304ed6-eceb-43ba-d346-c934c26ddce8"
      },
      "outputs": [
        {
          "data": {
            "text/plain": [
              "TossDecision\n",
              "field    52\n",
              "bat       7\n",
              "Name: count, dtype: int64"
            ]
          },
          "execution_count": 58,
          "metadata": {},
          "output_type": "execute_result"
        }
      ],
      "source": [
        "toss_decision = matches_df['TossDecision'].value_counts()\n",
        "toss_decision.head()"
      ]
    },
    {
      "cell_type": "code",
      "execution_count": 59,
      "metadata": {
        "colab": {
          "base_uri": "https://localhost:8080/",
          "height": 266
        },
        "id": "dBhlp4Ns93tW",
        "outputId": "391e7ac7-13b9-4f99-e7ba-a7ca41652f54"
      },
      "outputs": [
        {
          "data": {
            "image/png": "[encoded data removed]",
            "text/plain": [
              "<Figure size 640x480 with 1 Axes>"
            ]
          },
          "metadata": {},
          "output_type": "display_data"
        }
      ],
      "source": [
        "labels = (np.array(toss_decision.index))\n",
        "sizes = (np.array((toss_decision / toss_decision.sum())*100))\n",
        "colors = ['orange', 'lightgreen']\n",
        "plt.pie(sizes, labels=labels, colors=colors,\n",
        "        autopct='%1.1f%%', shadow=True, startangle=90)\n",
        "plt.title(\"Toss decision percentage\",fontweight=\"bold\",fontsize=15)\n",
        "plt.show()"
      ]
    },
    {
      "cell_type": "markdown",
      "metadata": {
        "id": "03Snz_Du-CvN"
      },
      "source": [
        "**MOST LIKELY DESICION AFTER WINNING TOSS TEAM-WISE**"
      ]
    },
    {
      "cell_type": "code",
      "execution_count": 60,
      "metadata": {
        "colab": {
          "base_uri": "https://localhost:8080/"
        },
        "id": "4AEpiFqz_eI8",
        "outputId": "174220e1-bd40-4a34-bf49-fbe136833d6b"
      },
      "outputs": [
        {
          "data": {
            "text/plain": [
              "TossWinner                   TossDecision\n",
              "Chennai Super Kings          field           4\n",
              "Delhi Capitals               field           8\n",
              "Gujarat Titans               bat             3\n",
              "                             field           5\n",
              "Kolkata Knight Riders        field           7\n",
              "Lucknow Super Giants         bat             1\n",
              "                             field           4\n",
              "Mumbai Indians               field           7\n",
              "Punjab Kings                 bat             1\n",
              "                             field           2\n",
              "Rajasthan Royals             field           1\n",
              "Royal Challengers Bangalore  bat             2\n",
              "                             field           5\n",
              "Sunrisers Hyderabad          field           9\n",
              "Name: count, dtype: int64"
            ]
          },
          "execution_count": 60,
          "metadata": {},
          "output_type": "execute_result"
        }
      ],
      "source": [
        "toss_decision = matches_df.groupby('TossWinner')['TossDecision'].value_counts().sort_index()\n",
        "toss_decision"
      ]
    },
    {
      "cell_type": "markdown",
      "metadata": {
        "id": "jj8ZIa4zAHAx"
      },
      "source": [
        "**STATS**"
      ]
    },
    {
      "cell_type": "code",
      "execution_count": 61,
      "metadata": {
        "colab": {
          "base_uri": "https://localhost:8080/",
          "height": 538
        },
        "id": "N3xcl9s7_RKb",
        "outputId": "47896292-18e4-4f57-ed59-2560717bcc36"
      },
      "outputs": [
        {
          "data": {
            "image/png": "[encoded data removed]",
            "text/plain": [
              "<Figure size 1200x600 with 1 Axes>"
            ]
          },
          "metadata": {},
          "output_type": "display_data"
        }
      ],
      "source": [
        "toss_decision.unstack().plot(kind = 'bar', figsize=(12,6), title = 'TossDecisions', xlabel = 'Seasons', ylabel = 'Percentage');"
      ]
    },
    {
      "cell_type": "markdown",
      "metadata": {
        "id": "BR0w93s9RFzy"
      },
      "source": [
        "**NO. OF MATCHES HOSTED BY DIFFERENT CITIES**"
      ]
    },
    {
      "cell_type": "code",
      "execution_count": 9,
      "metadata": {
        "id": "IBYEzLcKQy-M"
      },
      "outputs": [
        {
          "name": "stdout",
          "output_type": "stream",
          "text": [
            "          City matches\n",
            "0       Mumbai      40\n",
            "1         Pune      12\n",
            "2  Navi Mumbai       7\n"
          ]
        }
      ],
      "source": [
        "city_ser = matches_df['City'].value_counts()\n",
        "\n",
        "city_df = pd.DataFrame(columns=['City', 'matches'])\n",
        "for items in city_ser.items():  # Use items() instead of iteritems()\n",
        "    temp_df6 = pd.DataFrame({\n",
        "        'City': [items[0]],\n",
        "        'matches': [items[1]]\n",
        "    })\n",
        "    # Using pd.concat instead of append\n",
        "    city_df = pd.concat([city_df, temp_df6], ignore_index=True)\n",
        "\n",
        "print(city_df)\n"
      ]
    },
    {
      "cell_type": "markdown",
      "metadata": {
        "id": "iriBT23JRM7S"
      },
      "source": [
        "**STATS**"
      ]
    },
    {
      "cell_type": "code",
      "execution_count": 10,
      "metadata": {
        "colab": {
          "base_uri": "https://localhost:8080/",
          "height": 295
        },
        "id": "IxuZtgW8M32I",
        "outputId": "63a7f162-be44-43b9-c3b4-9d5b5fed0425"
      },
      "outputs": [
        {
          "name": "stderr",
          "output_type": "stream",
          "text": [
            "C:\\Users\\hp\\AppData\\Local\\Temp\\ipykernel_8544\\2662333613.py:2: FutureWarning: \n",
            "\n",
            "Passing `palette` without assigning `hue` is deprecated and will be removed in v0.14.0. Assign the `y` variable to `hue` and set `legend=False` for the same effect.\n",
            "\n",
            "  sns.barplot(x='matches', y='City', data=city_df, palette='Paired');\n"
          ]
        },
        {
          "data": {
            "image/png": "[encoded data removed]",
            "text/plain": [
              "<Figure size 640x480 with 1 Axes>"
            ]
          },
          "metadata": {},
          "output_type": "display_data"
        }
      ],
      "source": [
        "plt.title(\"Cities that hosted IPL matches\")\n",
        "sns.barplot(x='matches', y='City', data=city_df, palette='Paired');"
      ]
    },
    {
      "cell_type": "markdown",
      "metadata": {
        "id": "cPhWGetkXU-B"
      },
      "source": [
        "**BEST 3 PLAYERS OVERALL IPL 2022**"
      ]
    },
    {
      "cell_type": "code",
      "execution_count": 11,
      "metadata": {
        "colab": {
          "base_uri": "https://localhost:8080/",
          "height": 143
        },
        "id": "EMTxvFZXSs6w",
        "outputId": "7e7bc7ca-b59e-432d-bcea-31a791ee2051"
      },
      "outputs": [
        {
          "data": {
            "text/html": [
              "<div>\n",
              "<style scoped>\n",
              "    .dataframe tbody tr th:only-of-type {\n",
              "        vertical-align: middle;\n",
              "    }\n",
              "\n",
              "    .dataframe tbody tr th {\n",
              "        vertical-align: top;\n",
              "    }\n",
              "\n",
              "    .dataframe thead th {\n",
              "        text-align: right;\n",
              "    }\n",
              "</style>\n",
              "<table border=\"1\" class=\"dataframe\">\n",
              "  <thead>\n",
              "    <tr style=\"text-align: right;\">\n",
              "      <th></th>\n",
              "      <th>Batsman</th>\n",
              "      <th>runs</th>\n",
              "    </tr>\n",
              "  </thead>\n",
              "  <tbody>\n",
              "    <tr>\n",
              "      <th>0</th>\n",
              "      <td>JC Buttler</td>\n",
              "      <td>625</td>\n",
              "    </tr>\n",
              "    <tr>\n",
              "      <th>1</th>\n",
              "      <td>KL Rahul</td>\n",
              "      <td>459</td>\n",
              "    </tr>\n",
              "    <tr>\n",
              "      <th>2</th>\n",
              "      <td>DA Warner</td>\n",
              "      <td>427</td>\n",
              "    </tr>\n",
              "  </tbody>\n",
              "</table>\n",
              "</div>"
            ],
            "text/plain": [
              "      Batsman  runs\n",
              "0  JC Buttler   625\n",
              "1    KL Rahul   459\n",
              "2   DA Warner   427"
            ]
          },
          "execution_count": 11,
          "metadata": {},
          "output_type": "execute_result"
        }
      ],
      "source": [
        "runs=ball_df.groupby(['batter'])['batsman_run'].sum().reset_index()\n",
        "runs.columns=['Batsman','runs']\n",
        "y=runs.sort_values(by='runs',ascending=False).head(3).reset_index().drop('index',axis=1)\n",
        "y"
      ]
    },
    {
      "cell_type": "markdown",
      "metadata": {
        "id": "jM0VirPjXhB6"
      },
      "source": [
        "**STATS**"
      ]
    },
    {
      "cell_type": "code",
      "execution_count": 12,
      "metadata": {
        "colab": {
          "base_uri": "https://localhost:8080/",
          "height": 296
        },
        "id": "hp91GOrSWBdT",
        "outputId": "21368551-7aa3-4f6d-8e63-774d6a7b3eb4"
      },
      "outputs": [
        {
          "name": "stderr",
          "output_type": "stream",
          "text": [
            "C:\\Users\\hp\\AppData\\Local\\Temp\\ipykernel_8544\\2565362626.py:3: FutureWarning: \n",
            "\n",
            "Passing `palette` without assigning `hue` is deprecated and will be removed in v0.14.0. Assign the `x` variable to `hue` and set `legend=False` for the same effect.\n",
            "\n",
            "  sns.barplot(x=y['Batsman'],y=y['runs'],palette='rocket',saturation=1)\n"
          ]
        },
        {
          "data": {
            "text/plain": [
              "<Axes: xlabel='Batsman', ylabel='runs'>"
            ]
          },
          "execution_count": 12,
          "metadata": {},
          "output_type": "execute_result"
        },
        {
          "data": {
            "image/png": "[encoded data removed]",
            "text/plain": [
              "<Figure size 640x480 with 1 Axes>"
            ]
          },
          "metadata": {},
          "output_type": "display_data"
        }
      ],
      "source": [
        "ax=plt.axes()\n",
        "ax.set(facecolor='grey')\n",
        "sns.barplot(x=y['Batsman'],y=y['runs'],palette='rocket',saturation=1)"
      ]
    },
    {
      "cell_type": "markdown",
      "metadata": {
        "id": "HgNrXVHEZE4R"
      },
      "source": [
        "**BEST 3 BOWLERS OVERALL IPL 2022**"
      ]
    },
    {
      "cell_type": "code",
      "execution_count": 13,
      "metadata": {
        "colab": {
          "base_uri": "https://localhost:8080/",
          "height": 143
        },
        "id": "qonT3idoWfFh",
        "outputId": "9fc3fd34-5670-4174-9998-25feda25e283"
      },
      "outputs": [
        {
          "data": {
            "text/html": [
              "<div>\n",
              "<style scoped>\n",
              "    .dataframe tbody tr th:only-of-type {\n",
              "        vertical-align: middle;\n",
              "    }\n",
              "\n",
              "    .dataframe tbody tr th {\n",
              "        vertical-align: top;\n",
              "    }\n",
              "\n",
              "    .dataframe thead th {\n",
              "        text-align: right;\n",
              "    }\n",
              "</style>\n",
              "<table border=\"1\" class=\"dataframe\">\n",
              "  <thead>\n",
              "    <tr style=\"text-align: right;\">\n",
              "      <th></th>\n",
              "      <th>Bowler</th>\n",
              "      <th>wicket</th>\n",
              "    </tr>\n",
              "  </thead>\n",
              "  <tbody>\n",
              "    <tr>\n",
              "      <th>0</th>\n",
              "      <td>YS Chahal</td>\n",
              "      <td>25</td>\n",
              "    </tr>\n",
              "    <tr>\n",
              "      <th>1</th>\n",
              "      <td>PWH de Silva</td>\n",
              "      <td>22</td>\n",
              "    </tr>\n",
              "    <tr>\n",
              "      <th>2</th>\n",
              "      <td>AD Russell</td>\n",
              "      <td>18</td>\n",
              "    </tr>\n",
              "  </tbody>\n",
              "</table>\n",
              "</div>"
            ],
            "text/plain": [
              "         Bowler  wicket\n",
              "0     YS Chahal      25\n",
              "1  PWH de Silva      22\n",
              "2    AD Russell      18"
            ]
          },
          "execution_count": 13,
          "metadata": {},
          "output_type": "execute_result"
        }
      ],
      "source": [
        "ball=ball_df.groupby(['bowler'])['isWicketDelivery'].sum().reset_index()\n",
        "ball.columns=['Bowler','wicket']\n",
        "y=ball.sort_values(by='wicket',ascending=False).head(3).reset_index().drop('index',axis=1)\n",
        "y"
      ]
    },
    {
      "cell_type": "markdown",
      "metadata": {
        "id": "OS0Cxg6SZI1q"
      },
      "source": [
        "**STATS**"
      ]
    },
    {
      "cell_type": "code",
      "execution_count": 14,
      "metadata": {
        "colab": {
          "base_uri": "https://localhost:8080/",
          "height": 296
        },
        "id": "czDK4yE5YgOs",
        "outputId": "6c4cdb05-3432-4455-a0c5-f20ae3157dd2"
      },
      "outputs": [
        {
          "name": "stderr",
          "output_type": "stream",
          "text": [
            "C:\\Users\\hp\\AppData\\Local\\Temp\\ipykernel_8544\\2304549717.py:1: FutureWarning: \n",
            "\n",
            "Passing `palette` without assigning `hue` is deprecated and will be removed in v0.14.0. Assign the `x` variable to `hue` and set `legend=False` for the same effect.\n",
            "\n",
            "  sns.barplot(x=y['Bowler'],y=y['wicket'],palette='rocket',saturation=1)\n"
          ]
        },
        {
          "data": {
            "text/plain": [
              "<Axes: xlabel='Bowler', ylabel='wicket'>"
            ]
          },
          "execution_count": 14,
          "metadata": {},
          "output_type": "execute_result"
        },
        {
          "data": {
            "image/png": "[encoded data removed]",
            "text/plain": [
              "<Figure size 640x480 with 1 Axes>"
            ]
          },
          "metadata": {},
          "output_type": "display_data"
        }
      ],
      "source": [
        "sns.barplot(x=y['Bowler'],y=y['wicket'],palette='rocket',saturation=1)"
      ]
    },
    {
      "cell_type": "markdown",
      "metadata": {
        "id": "gj2DM6Mo_uNE"
      },
      "source": [
        "**LUCKY STADIUM FOR THE TOP MOST TEAM**"
      ]
    },
    {
      "cell_type": "code",
      "execution_count": 15,
      "metadata": {
        "colab": {
          "base_uri": "https://localhost:8080/",
          "height": 537
        },
        "id": "LpttMDaiZjv5",
        "outputId": "574dd303-1df0-45da-a0d3-aac4435ad1cd"
      },
      "outputs": [
        {
          "data": {
            "text/plain": [
              "<Axes: xlabel='Venue'>"
            ]
          },
          "execution_count": 15,
          "metadata": {},
          "output_type": "execute_result"
        },
        {
          "data": {
            "image/png": "[encoded data removed]",
            "text/plain": [
              "<Figure size 640x480 with 1 Axes>"
            ]
          },
          "metadata": {},
          "output_type": "display_data"
        }
      ],
      "source": [
        "def lucky(matches_df,team_name):\n",
        "    return matches_df[matches_df['WinningTeam']==team_name]['Venue'].value_counts().nlargest(3)\n",
        "ax = plt.axes()\n",
        "ax.set(facecolor = \"white\")\n",
        "\n",
        "sns.set(palette=\"Blues_r\",style='darkgrid')\n",
        "lucky(matches_df,'Gujarat Titans').plot(kind='bar')"
      ]
    }
  ],
  "metadata": {
    "colab": {
      "collapsed_sections": [],
      "name": "SAMAR_PYTHON_PROJECT.ipynb",
      "provenance": []
    },
    "kernelspec": {
      "display_name": "base",
      "language": "python",
      "name": "python3"
    },
    "language_info": {
      "codemirror_mode": {
        "name": "ipython",
        "version": 3
      },
      "file_extension": ".py",
      "mimetype": "text/x-python",
      "name": "python",
      "nbconvert_exporter": "python",
      "pygments_lexer": "ipython3",
      "version": "3.12.7"
    }
  },
  "nbformat": 4,
  "nbformat_minor": 0
}
